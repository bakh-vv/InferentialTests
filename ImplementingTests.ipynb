{
 "cells": [
  {
   "cell_type": "code",
   "execution_count": 8,
   "metadata": {},
   "outputs": [],
   "source": [
    "from statsmodels.stats import contingency_tables as conTables\n",
    "import statsmodels.api as sm\n",
    "import numpy as np\n",
    "import scipy as sp\n",
    "%matplotlib inline\n",
    "import matplotlib.pyplot as plt\n",
    "import pandas as pd\n",
    "from statsmodels.formula.api import ols as ols_formula\n",
    "from statsmodels.discrete.discrete_model import Logit as my_logit"
   ]
  },
  {
   "cell_type": "code",
   "execution_count": 2,
   "metadata": {},
   "outputs": [
    {
     "data": {
      "text/plain": [
       "array([[150,  50],\n",
       "       [ 35, 100]])"
      ]
     },
     "execution_count": 2,
     "metadata": {},
     "output_type": "execute_result"
    }
   ],
   "source": [
    "europe = np.array([[150,50],[35,100]])\n",
    "europe"
   ]
  },
  {
   "cell_type": "code",
   "execution_count": 4,
   "metadata": {},
   "outputs": [
    {
     "name": "stdout",
     "output_type": "stream",
     "text": [
      "pvalue      0.1037416782365415\n",
      "statistic   2.6470588235294117\n"
     ]
    }
   ],
   "source": [
    "#Mcnemar's test\n",
    "print(conTables.mcnemar(europe, exact=False, correction=False))"
   ]
  },
  {
   "cell_type": "code",
   "execution_count": 5,
   "metadata": {},
   "outputs": [
    {
     "data": {
      "text/plain": [
       "array([[ 7, 10],\n",
       "       [ 1,  9]])"
      ]
     },
     "execution_count": 5,
     "metadata": {},
     "output_type": "execute_result"
    }
   ],
   "source": [
    "child = np.array([[7,10],[1,9]])\n",
    "child"
   ]
  },
  {
   "cell_type": "code",
   "execution_count": 6,
   "metadata": {},
   "outputs": [
    {
     "data": {
      "text/plain": [
       "(6.3, 0.18954089388872042)"
      ]
     },
     "execution_count": 6,
     "metadata": {},
     "output_type": "execute_result"
    }
   ],
   "source": [
    "sp.stats.fisher_exact(child)"
   ]
  },
  {
   "cell_type": "code",
   "execution_count": 2,
   "metadata": {},
   "outputs": [],
   "source": [
    "money = np.array([1, 2, 3, 4, 5, 6, 7, 8, 9, 10])\n",
    "\n",
    "liking = np.array([2.2, 2.8, 4.5, 3.1, 8.7, 5.0, 4.5, 8.8, 9.0, 9.2])"
   ]
  },
  {
   "cell_type": "code",
   "execution_count": 3,
   "metadata": {},
   "outputs": [
    {
     "data": {
      "text/plain": [
       "array([0.77818182, 1.5       ])"
      ]
     },
     "execution_count": 3,
     "metadata": {},
     "output_type": "execute_result"
    }
   ],
   "source": [
    "np.polyfit(money, liking, 1)"
   ]
  },
  {
   "cell_type": "code",
   "execution_count": 16,
   "metadata": {},
   "outputs": [
    {
     "data": {
      "text/plain": [
       "LinregressResult(slope=0.7781818181818181, intercept=1.5, rvalue=0.8302539407610453, pvalue=0.002943445862377132, stderr=0.18470585654907157)"
      ]
     },
     "execution_count": 16,
     "metadata": {},
     "output_type": "execute_result"
    }
   ],
   "source": [
    "sp.stats.linregress(money, liking)"
   ]
  },
  {
   "cell_type": "code",
   "execution_count": 22,
   "metadata": {},
   "outputs": [
    {
     "name": "stderr",
     "output_type": "stream",
     "text": [
      "C:\\Users\\Bakhtiyar\\Anaconda3\\lib\\site-packages\\scipy\\stats\\stats.py:1394: UserWarning: kurtosistest only valid for n>=20 ... continuing anyway, n=10\n",
      "  \"anyway, n=%i\" % int(n))\n"
     ]
    },
    {
     "data": {
      "text/html": [
       "<table class=\"simpletable\">\n",
       "<caption>OLS Regression Results</caption>\n",
       "<tr>\n",
       "  <th>Dep. Variable:</th>            <td>y</td>        <th>  R-squared:         </th> <td>   0.689</td>\n",
       "</tr>\n",
       "<tr>\n",
       "  <th>Model:</th>                   <td>OLS</td>       <th>  Adj. R-squared:    </th> <td>   0.650</td>\n",
       "</tr>\n",
       "<tr>\n",
       "  <th>Method:</th>             <td>Least Squares</td>  <th>  F-statistic:       </th> <td>   17.75</td>\n",
       "</tr>\n",
       "<tr>\n",
       "  <th>Date:</th>             <td>Wed, 12 Sep 2018</td> <th>  Prob (F-statistic):</th>  <td>0.00294</td>\n",
       "</tr>\n",
       "<tr>\n",
       "  <th>Time:</th>                 <td>10:17:31</td>     <th>  Log-Likelihood:    </th> <td> -18.248</td>\n",
       "</tr>\n",
       "<tr>\n",
       "  <th>No. Observations:</th>      <td>    10</td>      <th>  AIC:               </th> <td>   40.50</td>\n",
       "</tr>\n",
       "<tr>\n",
       "  <th>Df Residuals:</th>          <td>     8</td>      <th>  BIC:               </th> <td>   41.10</td>\n",
       "</tr>\n",
       "<tr>\n",
       "  <th>Df Model:</th>              <td>     1</td>      <th>                     </th>     <td> </td>   \n",
       "</tr>\n",
       "<tr>\n",
       "  <th>Covariance Type:</th>      <td>nonrobust</td>    <th>                     </th>     <td> </td>   \n",
       "</tr>\n",
       "</table>\n",
       "<table class=\"simpletable\">\n",
       "<tr>\n",
       "    <td></td>       <th>coef</th>     <th>std err</th>      <th>t</th>      <th>P>|t|</th>  <th>[0.025</th>    <th>0.975]</th>  \n",
       "</tr>\n",
       "<tr>\n",
       "  <th>const</th> <td>    1.5000</td> <td>    1.146</td> <td>    1.309</td> <td> 0.227</td> <td>   -1.143</td> <td>    4.143</td>\n",
       "</tr>\n",
       "<tr>\n",
       "  <th>x1</th>    <td>    0.7782</td> <td>    0.185</td> <td>    4.213</td> <td> 0.003</td> <td>    0.352</td> <td>    1.204</td>\n",
       "</tr>\n",
       "</table>\n",
       "<table class=\"simpletable\">\n",
       "<tr>\n",
       "  <th>Omnibus:</th>       <td> 2.154</td> <th>  Durbin-Watson:     </th> <td>   2.826</td>\n",
       "</tr>\n",
       "<tr>\n",
       "  <th>Prob(Omnibus):</th> <td> 0.341</td> <th>  Jarque-Bera (JB):  </th> <td>   0.506</td>\n",
       "</tr>\n",
       "<tr>\n",
       "  <th>Skew:</th>          <td> 0.537</td> <th>  Prob(JB):          </th> <td>   0.776</td>\n",
       "</tr>\n",
       "<tr>\n",
       "  <th>Kurtosis:</th>      <td> 3.244</td> <th>  Cond. No.          </th> <td>    13.7</td>\n",
       "</tr>\n",
       "</table><br/><br/>Warnings:<br/>[1] Standard Errors assume that the covariance matrix of the errors is correctly specified."
      ],
      "text/plain": [
       "<class 'statsmodels.iolib.summary.Summary'>\n",
       "\"\"\"\n",
       "                            OLS Regression Results                            \n",
       "==============================================================================\n",
       "Dep. Variable:                      y   R-squared:                       0.689\n",
       "Model:                            OLS   Adj. R-squared:                  0.650\n",
       "Method:                 Least Squares   F-statistic:                     17.75\n",
       "Date:                Wed, 12 Sep 2018   Prob (F-statistic):            0.00294\n",
       "Time:                        10:17:31   Log-Likelihood:                -18.248\n",
       "No. Observations:                  10   AIC:                             40.50\n",
       "Df Residuals:                       8   BIC:                             41.10\n",
       "Df Model:                           1                                         \n",
       "Covariance Type:            nonrobust                                         \n",
       "==============================================================================\n",
       "                 coef    std err          t      P>|t|      [0.025      0.975]\n",
       "------------------------------------------------------------------------------\n",
       "const          1.5000      1.146      1.309      0.227      -1.143       4.143\n",
       "x1             0.7782      0.185      4.213      0.003       0.352       1.204\n",
       "==============================================================================\n",
       "Omnibus:                        2.154   Durbin-Watson:                   2.826\n",
       "Prob(Omnibus):                  0.341   Jarque-Bera (JB):                0.506\n",
       "Skew:                           0.537   Prob(JB):                        0.776\n",
       "Kurtosis:                       3.244   Cond. No.                         13.7\n",
       "==============================================================================\n",
       "\n",
       "Warnings:\n",
       "[1] Standard Errors assume that the covariance matrix of the errors is correctly specified.\n",
       "\"\"\""
      ]
     },
     "execution_count": 22,
     "metadata": {},
     "output_type": "execute_result"
    }
   ],
   "source": [
    "X_money = sm.add_constant(money)    #note that you need to add_contant (include intercept) to use statsmodels OLS()\n",
    "\n",
    "regression_results = sm.OLS(liking, X_money).fit()\n",
    "regression_results.summary()"
   ]
  },
  {
   "cell_type": "code",
   "execution_count": 30,
   "metadata": {},
   "outputs": [],
   "source": [
    "residuals = regression_results.resid"
   ]
  },
  {
   "cell_type": "code",
   "execution_count": 33,
   "metadata": {},
   "outputs": [
    {
     "data": {
      "text/plain": [
       "Text(0,0.5,'residuals')"
      ]
     },
     "execution_count": 33,
     "metadata": {},
     "output_type": "execute_result"
    },
    {
     "data": {
      "image/png": "[encoded data removed]",
      "text/plain": [
       "<Figure size 432x288 with 1 Axes>"
      ]
     },
     "metadata": {},
     "output_type": "display_data"
    }
   ],
   "source": [
    "plt.plot(liking, residuals, 'o')\n",
    "plt.xlabel('liking')\n",
    "plt.ylabel('residuals')"
   ]
  },
  {
   "cell_type": "code",
   "execution_count": 34,
   "metadata": {},
   "outputs": [
    {
     "data": {
      "text/plain": [
       "Text(0,0.5,'residuals')"
      ]
     },
     "execution_count": 34,
     "metadata": {},
     "output_type": "execute_result"
    },
    {
     "data": {
      "image/png": "[encoded data removed]",
      "text/plain": [
       "<Figure size 432x288 with 1 Axes>"
      ]
     },
     "metadata": {},
     "output_type": "display_data"
    }
   ],
   "source": [
    "plt.plot(money, residuals, 'o')\n",
    "plt.xlabel('money')\n",
    "plt.ylabel('residuals')"
   ]
  },
  {
   "cell_type": "code",
   "execution_count": 35,
   "metadata": {},
   "outputs": [
    {
     "data": {
      "text/plain": [
       "(array([1., 1., 1., 1., 2., 2., 1., 0., 0., 1.]),\n",
       " array([-2.44727273, -1.87163636, -1.296     , -0.72036364, -0.14472727,\n",
       "         0.43090909,  1.00654545,  1.58218182,  2.15781818,  2.73345455,\n",
       "         3.30909091]),\n",
       " <a list of 10 Patch objects>)"
      ]
     },
     "execution_count": 35,
     "metadata": {},
     "output_type": "execute_result"
    },
    {
     "data": {
      "image/png": "[encoded data removed]",
      "text/plain": [
       "<Figure size 432x288 with 1 Axes>"
      ]
     },
     "metadata": {},
     "output_type": "display_data"
    }
   ],
   "source": [
    "plt.hist(residuals)"
   ]
  },
  {
   "cell_type": "code",
   "execution_count": 86,
   "metadata": {},
   "outputs": [
    {
     "data": {
      "text/html": [
       "<div>\n",
       "<style scoped>\n",
       "    .dataframe tbody tr th:only-of-type {\n",
       "        vertical-align: middle;\n",
       "    }\n",
       "\n",
       "    .dataframe tbody tr th {\n",
       "        vertical-align: top;\n",
       "    }\n",
       "\n",
       "    .dataframe thead th {\n",
       "        text-align: right;\n",
       "    }\n",
       "</style>\n",
       "<table border=\"1\" class=\"dataframe\">\n",
       "  <thead>\n",
       "    <tr style=\"text-align: right;\">\n",
       "      <th></th>\n",
       "      <th>mean</th>\n",
       "      <th>mean_se</th>\n",
       "      <th>mean_ci_lower</th>\n",
       "      <th>mean_ci_upper</th>\n",
       "      <th>obs_ci_lower</th>\n",
       "      <th>obs_ci_upper</th>\n",
       "    </tr>\n",
       "  </thead>\n",
       "  <tbody>\n",
       "    <tr>\n",
       "      <th>0</th>\n",
       "      <td>2.278182</td>\n",
       "      <td>0.986059</td>\n",
       "      <td>0.004325</td>\n",
       "      <td>4.552039</td>\n",
       "      <td>-2.209295</td>\n",
       "      <td>6.765659</td>\n",
       "    </tr>\n",
       "    <tr>\n",
       "      <th>1</th>\n",
       "      <td>3.056364</td>\n",
       "      <td>0.836291</td>\n",
       "      <td>1.127872</td>\n",
       "      <td>4.984855</td>\n",
       "      <td>-1.266379</td>\n",
       "      <td>7.379106</td>\n",
       "    </tr>\n",
       "    <tr>\n",
       "      <th>2</th>\n",
       "      <td>3.834545</td>\n",
       "      <td>0.703339</td>\n",
       "      <td>2.212643</td>\n",
       "      <td>5.456448</td>\n",
       "      <td>-0.360403</td>\n",
       "      <td>8.029494</td>\n",
       "    </tr>\n",
       "    <tr>\n",
       "      <th>3</th>\n",
       "      <td>4.612727</td>\n",
       "      <td>0.598515</td>\n",
       "      <td>3.232548</td>\n",
       "      <td>5.992906</td>\n",
       "      <td>0.505183</td>\n",
       "      <td>8.720271</td>\n",
       "    </tr>\n",
       "    <tr>\n",
       "      <th>4</th>\n",
       "      <td>5.390909</td>\n",
       "      <td>0.538505</td>\n",
       "      <td>4.149113</td>\n",
       "      <td>6.632705</td>\n",
       "      <td>1.327772</td>\n",
       "      <td>9.454046</td>\n",
       "    </tr>\n",
       "    <tr>\n",
       "      <th>5</th>\n",
       "      <td>6.169091</td>\n",
       "      <td>0.538505</td>\n",
       "      <td>4.927295</td>\n",
       "      <td>7.410887</td>\n",
       "      <td>2.105954</td>\n",
       "      <td>10.232228</td>\n",
       "    </tr>\n",
       "    <tr>\n",
       "      <th>6</th>\n",
       "      <td>6.947273</td>\n",
       "      <td>0.598515</td>\n",
       "      <td>5.567094</td>\n",
       "      <td>8.327452</td>\n",
       "      <td>2.839729</td>\n",
       "      <td>11.054817</td>\n",
       "    </tr>\n",
       "    <tr>\n",
       "      <th>7</th>\n",
       "      <td>7.725455</td>\n",
       "      <td>0.703339</td>\n",
       "      <td>6.103552</td>\n",
       "      <td>9.347357</td>\n",
       "      <td>3.530506</td>\n",
       "      <td>11.920403</td>\n",
       "    </tr>\n",
       "    <tr>\n",
       "      <th>8</th>\n",
       "      <td>8.503636</td>\n",
       "      <td>0.836291</td>\n",
       "      <td>6.575145</td>\n",
       "      <td>10.432128</td>\n",
       "      <td>4.180894</td>\n",
       "      <td>12.826379</td>\n",
       "    </tr>\n",
       "    <tr>\n",
       "      <th>9</th>\n",
       "      <td>9.281818</td>\n",
       "      <td>0.986059</td>\n",
       "      <td>7.007961</td>\n",
       "      <td>11.555675</td>\n",
       "      <td>4.794341</td>\n",
       "      <td>13.769295</td>\n",
       "    </tr>\n",
       "  </tbody>\n",
       "</table>\n",
       "</div>"
      ],
      "text/plain": [
       "       mean   mean_se  mean_ci_lower  mean_ci_upper  obs_ci_lower  \\\n",
       "0  2.278182  0.986059       0.004325       4.552039     -2.209295   \n",
       "1  3.056364  0.836291       1.127872       4.984855     -1.266379   \n",
       "2  3.834545  0.703339       2.212643       5.456448     -0.360403   \n",
       "3  4.612727  0.598515       3.232548       5.992906      0.505183   \n",
       "4  5.390909  0.538505       4.149113       6.632705      1.327772   \n",
       "5  6.169091  0.538505       4.927295       7.410887      2.105954   \n",
       "6  6.947273  0.598515       5.567094       8.327452      2.839729   \n",
       "7  7.725455  0.703339       6.103552       9.347357      3.530506   \n",
       "8  8.503636  0.836291       6.575145      10.432128      4.180894   \n",
       "9  9.281818  0.986059       7.007961      11.555675      4.794341   \n",
       "\n",
       "   obs_ci_upper  \n",
       "0      6.765659  \n",
       "1      7.379106  \n",
       "2      8.029494  \n",
       "3      8.720271  \n",
       "4      9.454046  \n",
       "5     10.232228  \n",
       "6     11.054817  \n",
       "7     11.920403  \n",
       "8     12.826379  \n",
       "9     13.769295  "
      ]
     },
     "execution_count": 86,
     "metadata": {},
     "output_type": "execute_result"
    }
   ],
   "source": [
    "#my_df = pd.DataFrame({'a' : [3]})\n",
    "#np.array([3]).shape\n",
    "prediction_results = regression_results.get_prediction()\n",
    "#prediction_results.conf_int(3, alpha=0.05)\n",
    "prediction_results.summary_frame(3, alpha=0.05)"
   ]
  },
  {
   "cell_type": "markdown",
   "metadata": {},
   "source": [
    "#Multiple Regression"
   ]
  },
  {
   "cell_type": "code",
   "execution_count": 87,
   "metadata": {},
   "outputs": [],
   "source": [
    "money = np.array([1, 2, 3, 4, 5, 6, 7, 8, 9, 10])\n",
    "\n",
    "smile = np.array([0.6, 0.7, 1.0, 0.1, 0.3, 0.1, 0.4, 0.8, 0.9, 0.2])\n",
    "\n",
    "liking = np.array([2.2, 2.8, 4.5, 3.1, 8.7, 5.0, 4.5, 8.8, 9.0, 9.2])"
   ]
  },
  {
   "cell_type": "code",
   "execution_count": 89,
   "metadata": {},
   "outputs": [
    {
     "data": {
      "text/html": [
       "<div>\n",
       "<style scoped>\n",
       "    .dataframe tbody tr th:only-of-type {\n",
       "        vertical-align: middle;\n",
       "    }\n",
       "\n",
       "    .dataframe tbody tr th {\n",
       "        vertical-align: top;\n",
       "    }\n",
       "\n",
       "    .dataframe thead th {\n",
       "        text-align: right;\n",
       "    }\n",
       "</style>\n",
       "<table border=\"1\" class=\"dataframe\">\n",
       "  <thead>\n",
       "    <tr style=\"text-align: right;\">\n",
       "      <th></th>\n",
       "      <th>smile</th>\n",
       "      <th>money</th>\n",
       "    </tr>\n",
       "  </thead>\n",
       "  <tbody>\n",
       "    <tr>\n",
       "      <th>0</th>\n",
       "      <td>0.6</td>\n",
       "      <td>1</td>\n",
       "    </tr>\n",
       "    <tr>\n",
       "      <th>1</th>\n",
       "      <td>0.7</td>\n",
       "      <td>2</td>\n",
       "    </tr>\n",
       "    <tr>\n",
       "      <th>2</th>\n",
       "      <td>1.0</td>\n",
       "      <td>3</td>\n",
       "    </tr>\n",
       "    <tr>\n",
       "      <th>3</th>\n",
       "      <td>0.1</td>\n",
       "      <td>4</td>\n",
       "    </tr>\n",
       "    <tr>\n",
       "      <th>4</th>\n",
       "      <td>0.3</td>\n",
       "      <td>5</td>\n",
       "    </tr>\n",
       "    <tr>\n",
       "      <th>5</th>\n",
       "      <td>0.1</td>\n",
       "      <td>6</td>\n",
       "    </tr>\n",
       "    <tr>\n",
       "      <th>6</th>\n",
       "      <td>0.4</td>\n",
       "      <td>7</td>\n",
       "    </tr>\n",
       "    <tr>\n",
       "      <th>7</th>\n",
       "      <td>0.8</td>\n",
       "      <td>8</td>\n",
       "    </tr>\n",
       "    <tr>\n",
       "      <th>8</th>\n",
       "      <td>0.9</td>\n",
       "      <td>9</td>\n",
       "    </tr>\n",
       "    <tr>\n",
       "      <th>9</th>\n",
       "      <td>0.2</td>\n",
       "      <td>10</td>\n",
       "    </tr>\n",
       "  </tbody>\n",
       "</table>\n",
       "</div>"
      ],
      "text/plain": [
       "   smile  money\n",
       "0    0.6      1\n",
       "1    0.7      2\n",
       "2    1.0      3\n",
       "3    0.1      4\n",
       "4    0.3      5\n",
       "5    0.1      6\n",
       "6    0.4      7\n",
       "7    0.8      8\n",
       "8    0.9      9\n",
       "9    0.2     10"
      ]
     },
     "execution_count": 89,
     "metadata": {},
     "output_type": "execute_result"
    }
   ],
   "source": [
    "predictors_df = pd.DataFrame({'smile' : smile, 'money' : money})\n",
    "predictors_df"
   ]
  },
  {
   "cell_type": "code",
   "execution_count": 92,
   "metadata": {},
   "outputs": [
    {
     "name": "stderr",
     "output_type": "stream",
     "text": [
      "C:\\Users\\Bakhtiyar\\Anaconda3\\lib\\site-packages\\scipy\\stats\\stats.py:1394: UserWarning: kurtosistest only valid for n>=20 ... continuing anyway, n=10\n",
      "  \"anyway, n=%i\" % int(n))\n"
     ]
    },
    {
     "data": {
      "text/html": [
       "<table class=\"simpletable\">\n",
       "<caption>OLS Regression Results</caption>\n",
       "<tr>\n",
       "  <th>Dep. Variable:</th>            <td>y</td>        <th>  R-squared:         </th> <td>   0.720</td>\n",
       "</tr>\n",
       "<tr>\n",
       "  <th>Model:</th>                   <td>OLS</td>       <th>  Adj. R-squared:    </th> <td>   0.640</td>\n",
       "</tr>\n",
       "<tr>\n",
       "  <th>Method:</th>             <td>Least Squares</td>  <th>  F-statistic:       </th> <td>   8.984</td>\n",
       "</tr>\n",
       "<tr>\n",
       "  <th>Date:</th>             <td>Thu, 13 Sep 2018</td> <th>  Prob (F-statistic):</th>  <td>0.0117</td> \n",
       "</tr>\n",
       "<tr>\n",
       "  <th>Time:</th>                 <td>14:10:59</td>     <th>  Log-Likelihood:    </th> <td> -17.735</td>\n",
       "</tr>\n",
       "<tr>\n",
       "  <th>No. Observations:</th>      <td>    10</td>      <th>  AIC:               </th> <td>   41.47</td>\n",
       "</tr>\n",
       "<tr>\n",
       "  <th>Df Residuals:</th>          <td>     7</td>      <th>  BIC:               </th> <td>   42.38</td>\n",
       "</tr>\n",
       "<tr>\n",
       "  <th>Df Model:</th>              <td>     2</td>      <th>                     </th>     <td> </td>   \n",
       "</tr>\n",
       "<tr>\n",
       "  <th>Covariance Type:</th>      <td>nonrobust</td>    <th>                     </th>     <td> </td>   \n",
       "</tr>\n",
       "</table>\n",
       "<table class=\"simpletable\">\n",
       "<tr>\n",
       "    <td></td>       <th>coef</th>     <th>std err</th>      <th>t</th>      <th>P>|t|</th>  <th>[0.025</th>    <th>0.975]</th>  \n",
       "</tr>\n",
       "<tr>\n",
       "  <th>const</th> <td>    0.6162</td> <td>    1.545</td> <td>    0.399</td> <td> 0.702</td> <td>   -3.037</td> <td>    4.269</td>\n",
       "</tr>\n",
       "<tr>\n",
       "  <th>smile</th> <td>    1.4895</td> <td>    1.712</td> <td>    0.870</td> <td> 0.413</td> <td>   -2.559</td> <td>    5.539</td>\n",
       "</tr>\n",
       "<tr>\n",
       "  <th>money</th> <td>    0.8008</td> <td>    0.189</td> <td>    4.229</td> <td> 0.004</td> <td>    0.353</td> <td>    1.249</td>\n",
       "</tr>\n",
       "</table>\n",
       "<table class=\"simpletable\">\n",
       "<tr>\n",
       "  <th>Omnibus:</th>       <td> 9.658</td> <th>  Durbin-Watson:     </th> <td>   2.521</td>\n",
       "</tr>\n",
       "<tr>\n",
       "  <th>Prob(Omnibus):</th> <td> 0.008</td> <th>  Jarque-Bera (JB):  </th> <td>   3.971</td>\n",
       "</tr>\n",
       "<tr>\n",
       "  <th>Skew:</th>          <td> 1.201</td> <th>  Prob(JB):          </th> <td>   0.137</td>\n",
       "</tr>\n",
       "<tr>\n",
       "  <th>Kurtosis:</th>      <td> 4.939</td> <th>  Cond. No.          </th> <td>    24.5</td>\n",
       "</tr>\n",
       "</table><br/><br/>Warnings:<br/>[1] Standard Errors assume that the covariance matrix of the errors is correctly specified."
      ],
      "text/plain": [
       "<class 'statsmodels.iolib.summary.Summary'>\n",
       "\"\"\"\n",
       "                            OLS Regression Results                            \n",
       "==============================================================================\n",
       "Dep. Variable:                      y   R-squared:                       0.720\n",
       "Model:                            OLS   Adj. R-squared:                  0.640\n",
       "Method:                 Least Squares   F-statistic:                     8.984\n",
       "Date:                Thu, 13 Sep 2018   Prob (F-statistic):             0.0117\n",
       "Time:                        14:10:59   Log-Likelihood:                -17.735\n",
       "No. Observations:                  10   AIC:                             41.47\n",
       "Df Residuals:                       7   BIC:                             42.38\n",
       "Df Model:                           2                                         \n",
       "Covariance Type:            nonrobust                                         \n",
       "==============================================================================\n",
       "                 coef    std err          t      P>|t|      [0.025      0.975]\n",
       "------------------------------------------------------------------------------\n",
       "const          0.6162      1.545      0.399      0.702      -3.037       4.269\n",
       "smile          1.4895      1.712      0.870      0.413      -2.559       5.539\n",
       "money          0.8008      0.189      4.229      0.004       0.353       1.249\n",
       "==============================================================================\n",
       "Omnibus:                        9.658   Durbin-Watson:                   2.521\n",
       "Prob(Omnibus):                  0.008   Jarque-Bera (JB):                3.971\n",
       "Skew:                           1.201   Prob(JB):                        0.137\n",
       "Kurtosis:                       4.939   Cond. No.                         24.5\n",
       "==============================================================================\n",
       "\n",
       "Warnings:\n",
       "[1] Standard Errors assume that the covariance matrix of the errors is correctly specified.\n",
       "\"\"\""
      ]
     },
     "execution_count": 92,
     "metadata": {},
     "output_type": "execute_result"
    }
   ],
   "source": [
    "\n",
    "\n",
    "X_predictors = sm.add_constant(predictors_df)    #note that you need to add_contant (include intercept) to use statsmodels OLS()\n",
    "\n",
    "regression_results = sm.OLS(liking, X_predictors).fit()\n",
    "regression_results.summary()"
   ]
  },
  {
   "cell_type": "code",
   "execution_count": 94,
   "metadata": {},
   "outputs": [
    {
     "data": {
      "text/plain": [
       "0.7196303143804057"
      ]
     },
     "execution_count": 94,
     "metadata": {},
     "output_type": "execute_result"
    }
   ],
   "source": [
    "regression_results.rsquared"
   ]
  },
  {
   "cell_type": "code",
   "execution_count": 97,
   "metadata": {},
   "outputs": [
    {
     "data": {
      "text/plain": [
       "[<matplotlib.lines.Line2D at 0x2a0cbb1fba8>]"
      ]
     },
     "execution_count": 97,
     "metadata": {},
     "output_type": "execute_result"
    },
    {
     "data": {
      "image/png": "[encoded data removed]",
      "text/plain": [
       "<Figure size 432x288 with 1 Axes>"
      ]
     },
     "metadata": {},
     "output_type": "display_data"
    }
   ],
   "source": [
    "residuals = regression_results.resid\n",
    "\n",
    "#plt.plot(X_predictors['smile'], residuals, 'o')\n",
    "plt.plot(X_predictors['money'], residuals, 'o')\n"
   ]
  },
  {
   "cell_type": "code",
   "execution_count": 104,
   "metadata": {},
   "outputs": [
    {
     "data": {
      "text/plain": [
       "0   -0.073660\n",
       "1   -0.306393\n",
       "2   -0.005321\n",
       "3   -0.577779\n",
       "4    2.417938\n",
       "5   -0.379123\n",
       "6   -1.542185\n",
       "7    0.390099\n",
       "8   -0.108841\n",
       "9    0.185265\n",
       "dtype: float64"
      ]
     },
     "execution_count": 104,
     "metadata": {},
     "output_type": "execute_result"
    }
   ],
   "source": [
    "residuals / residuals.std(axis = 0)"
   ]
  },
  {
   "cell_type": "code",
   "execution_count": 105,
   "metadata": {},
   "outputs": [
    {
     "data": {
      "text/plain": [
       "(array([1., 0., 2., 4., 2., 0., 0., 0., 0., 1.]),\n",
       " array([-2.31727718, -1.72223176, -1.12718634, -0.53214092,  0.06290451,\n",
       "         0.65794993,  1.25299535,  1.84804077,  2.44308619,  3.03813161,\n",
       "         3.63317703]),\n",
       " <a list of 10 Patch objects>)"
      ]
     },
     "execution_count": 105,
     "metadata": {},
     "output_type": "execute_result"
    },
    {
     "data": {
      "image/png": "[encoded data removed]",
      "text/plain": [
       "<Figure size 432x288 with 1 Axes>"
      ]
     },
     "metadata": {},
     "output_type": "display_data"
    }
   ],
   "source": [
    "plt.hist(residuals)"
   ]
  },
  {
   "cell_type": "code",
   "execution_count": 106,
   "metadata": {},
   "outputs": [],
   "source": [
    "from statsmodels.formula.api import ols as ols_formula"
   ]
  },
  {
   "cell_type": "code",
   "execution_count": 113,
   "metadata": {},
   "outputs": [],
   "source": [
    "talk = np.array([1, 2, 3, 2, 3, 1, 2, 1, 3, 1])"
   ]
  },
  {
   "cell_type": "code",
   "execution_count": 114,
   "metadata": {},
   "outputs": [],
   "source": [
    "data_df = pd.DataFrame({'smile' : smile, 'money' : money, 'talk' : talk, 'liking' : liking})"
   ]
  },
  {
   "cell_type": "code",
   "execution_count": 115,
   "metadata": {},
   "outputs": [
    {
     "data": {
      "text/html": [
       "<div>\n",
       "<style scoped>\n",
       "    .dataframe tbody tr th:only-of-type {\n",
       "        vertical-align: middle;\n",
       "    }\n",
       "\n",
       "    .dataframe tbody tr th {\n",
       "        vertical-align: top;\n",
       "    }\n",
       "\n",
       "    .dataframe thead th {\n",
       "        text-align: right;\n",
       "    }\n",
       "</style>\n",
       "<table border=\"1\" class=\"dataframe\">\n",
       "  <thead>\n",
       "    <tr style=\"text-align: right;\">\n",
       "      <th></th>\n",
       "      <th>smile</th>\n",
       "      <th>money</th>\n",
       "      <th>talk</th>\n",
       "      <th>liking</th>\n",
       "    </tr>\n",
       "  </thead>\n",
       "  <tbody>\n",
       "    <tr>\n",
       "      <th>0</th>\n",
       "      <td>0.6</td>\n",
       "      <td>1</td>\n",
       "      <td>1</td>\n",
       "      <td>2.2</td>\n",
       "    </tr>\n",
       "    <tr>\n",
       "      <th>1</th>\n",
       "      <td>0.7</td>\n",
       "      <td>2</td>\n",
       "      <td>2</td>\n",
       "      <td>2.8</td>\n",
       "    </tr>\n",
       "    <tr>\n",
       "      <th>2</th>\n",
       "      <td>1.0</td>\n",
       "      <td>3</td>\n",
       "      <td>3</td>\n",
       "      <td>4.5</td>\n",
       "    </tr>\n",
       "    <tr>\n",
       "      <th>3</th>\n",
       "      <td>0.1</td>\n",
       "      <td>4</td>\n",
       "      <td>2</td>\n",
       "      <td>3.1</td>\n",
       "    </tr>\n",
       "    <tr>\n",
       "      <th>4</th>\n",
       "      <td>0.3</td>\n",
       "      <td>5</td>\n",
       "      <td>3</td>\n",
       "      <td>8.7</td>\n",
       "    </tr>\n",
       "    <tr>\n",
       "      <th>5</th>\n",
       "      <td>0.1</td>\n",
       "      <td>6</td>\n",
       "      <td>1</td>\n",
       "      <td>5.0</td>\n",
       "    </tr>\n",
       "    <tr>\n",
       "      <th>6</th>\n",
       "      <td>0.4</td>\n",
       "      <td>7</td>\n",
       "      <td>2</td>\n",
       "      <td>4.5</td>\n",
       "    </tr>\n",
       "    <tr>\n",
       "      <th>7</th>\n",
       "      <td>0.8</td>\n",
       "      <td>8</td>\n",
       "      <td>1</td>\n",
       "      <td>8.8</td>\n",
       "    </tr>\n",
       "    <tr>\n",
       "      <th>8</th>\n",
       "      <td>0.9</td>\n",
       "      <td>9</td>\n",
       "      <td>3</td>\n",
       "      <td>9.0</td>\n",
       "    </tr>\n",
       "    <tr>\n",
       "      <th>9</th>\n",
       "      <td>0.2</td>\n",
       "      <td>10</td>\n",
       "      <td>1</td>\n",
       "      <td>9.2</td>\n",
       "    </tr>\n",
       "  </tbody>\n",
       "</table>\n",
       "</div>"
      ],
      "text/plain": [
       "   smile  money  talk  liking\n",
       "0    0.6      1     1     2.2\n",
       "1    0.7      2     2     2.8\n",
       "2    1.0      3     3     4.5\n",
       "3    0.1      4     2     3.1\n",
       "4    0.3      5     3     8.7\n",
       "5    0.1      6     1     5.0\n",
       "6    0.4      7     2     4.5\n",
       "7    0.8      8     1     8.8\n",
       "8    0.9      9     3     9.0\n",
       "9    0.2     10     1     9.2"
      ]
     },
     "execution_count": 115,
     "metadata": {},
     "output_type": "execute_result"
    }
   ],
   "source": [
    "data_df"
   ]
  },
  {
   "cell_type": "code",
   "execution_count": 117,
   "metadata": {},
   "outputs": [
    {
     "name": "stderr",
     "output_type": "stream",
     "text": [
      "C:\\Users\\Bakhtiyar\\Anaconda3\\lib\\site-packages\\scipy\\stats\\stats.py:1394: UserWarning: kurtosistest only valid for n>=20 ... continuing anyway, n=10\n",
      "  \"anyway, n=%i\" % int(n))\n"
     ]
    },
    {
     "data": {
      "text/html": [
       "<table class=\"simpletable\">\n",
       "<caption>OLS Regression Results</caption>\n",
       "<tr>\n",
       "  <th>Dep. Variable:</th>         <td>liking</td>      <th>  R-squared:         </th> <td>   0.720</td>\n",
       "</tr>\n",
       "<tr>\n",
       "  <th>Model:</th>                   <td>OLS</td>       <th>  Adj. R-squared:    </th> <td>   0.640</td>\n",
       "</tr>\n",
       "<tr>\n",
       "  <th>Method:</th>             <td>Least Squares</td>  <th>  F-statistic:       </th> <td>   8.984</td>\n",
       "</tr>\n",
       "<tr>\n",
       "  <th>Date:</th>             <td>Thu, 13 Sep 2018</td> <th>  Prob (F-statistic):</th>  <td>0.0117</td> \n",
       "</tr>\n",
       "<tr>\n",
       "  <th>Time:</th>                 <td>15:31:12</td>     <th>  Log-Likelihood:    </th> <td> -17.735</td>\n",
       "</tr>\n",
       "<tr>\n",
       "  <th>No. Observations:</th>      <td>    10</td>      <th>  AIC:               </th> <td>   41.47</td>\n",
       "</tr>\n",
       "<tr>\n",
       "  <th>Df Residuals:</th>          <td>     7</td>      <th>  BIC:               </th> <td>   42.38</td>\n",
       "</tr>\n",
       "<tr>\n",
       "  <th>Df Model:</th>              <td>     2</td>      <th>                     </th>     <td> </td>   \n",
       "</tr>\n",
       "<tr>\n",
       "  <th>Covariance Type:</th>      <td>nonrobust</td>    <th>                     </th>     <td> </td>   \n",
       "</tr>\n",
       "</table>\n",
       "<table class=\"simpletable\">\n",
       "<tr>\n",
       "      <td></td>         <th>coef</th>     <th>std err</th>      <th>t</th>      <th>P>|t|</th>  <th>[0.025</th>    <th>0.975]</th>  \n",
       "</tr>\n",
       "<tr>\n",
       "  <th>Intercept</th> <td>    0.6162</td> <td>    1.545</td> <td>    0.399</td> <td> 0.702</td> <td>   -3.037</td> <td>    4.269</td>\n",
       "</tr>\n",
       "<tr>\n",
       "  <th>smile</th>     <td>    1.4895</td> <td>    1.712</td> <td>    0.870</td> <td> 0.413</td> <td>   -2.559</td> <td>    5.539</td>\n",
       "</tr>\n",
       "<tr>\n",
       "  <th>money</th>     <td>    0.8008</td> <td>    0.189</td> <td>    4.229</td> <td> 0.004</td> <td>    0.353</td> <td>    1.249</td>\n",
       "</tr>\n",
       "</table>\n",
       "<table class=\"simpletable\">\n",
       "<tr>\n",
       "  <th>Omnibus:</th>       <td> 9.658</td> <th>  Durbin-Watson:     </th> <td>   2.521</td>\n",
       "</tr>\n",
       "<tr>\n",
       "  <th>Prob(Omnibus):</th> <td> 0.008</td> <th>  Jarque-Bera (JB):  </th> <td>   3.971</td>\n",
       "</tr>\n",
       "<tr>\n",
       "  <th>Skew:</th>          <td> 1.201</td> <th>  Prob(JB):          </th> <td>   0.137</td>\n",
       "</tr>\n",
       "<tr>\n",
       "  <th>Kurtosis:</th>      <td> 4.939</td> <th>  Cond. No.          </th> <td>    24.5</td>\n",
       "</tr>\n",
       "</table><br/><br/>Warnings:<br/>[1] Standard Errors assume that the covariance matrix of the errors is correctly specified."
      ],
      "text/plain": [
       "<class 'statsmodels.iolib.summary.Summary'>\n",
       "\"\"\"\n",
       "                            OLS Regression Results                            \n",
       "==============================================================================\n",
       "Dep. Variable:                 liking   R-squared:                       0.720\n",
       "Model:                            OLS   Adj. R-squared:                  0.640\n",
       "Method:                 Least Squares   F-statistic:                     8.984\n",
       "Date:                Thu, 13 Sep 2018   Prob (F-statistic):             0.0117\n",
       "Time:                        15:31:12   Log-Likelihood:                -17.735\n",
       "No. Observations:                  10   AIC:                             41.47\n",
       "Df Residuals:                       7   BIC:                             42.38\n",
       "Df Model:                           2                                         \n",
       "Covariance Type:            nonrobust                                         \n",
       "==============================================================================\n",
       "                 coef    std err          t      P>|t|      [0.025      0.975]\n",
       "------------------------------------------------------------------------------\n",
       "Intercept      0.6162      1.545      0.399      0.702      -3.037       4.269\n",
       "smile          1.4895      1.712      0.870      0.413      -2.559       5.539\n",
       "money          0.8008      0.189      4.229      0.004       0.353       1.249\n",
       "==============================================================================\n",
       "Omnibus:                        9.658   Durbin-Watson:                   2.521\n",
       "Prob(Omnibus):                  0.008   Jarque-Bera (JB):                3.971\n",
       "Skew:                           1.201   Prob(JB):                        0.137\n",
       "Kurtosis:                       4.939   Cond. No.                         24.5\n",
       "==============================================================================\n",
       "\n",
       "Warnings:\n",
       "[1] Standard Errors assume that the covariance matrix of the errors is correctly specified.\n",
       "\"\"\""
      ]
     },
     "execution_count": 117,
     "metadata": {},
     "output_type": "execute_result"
    }
   ],
   "source": [
    "fit = ols_formula('liking ~ smile + money', data=data_df).fit() \n",
    "fit.summary()"
   ]
  },
  {
   "cell_type": "code",
   "execution_count": 118,
   "metadata": {},
   "outputs": [
    {
     "name": "stderr",
     "output_type": "stream",
     "text": [
      "C:\\Users\\Bakhtiyar\\Anaconda3\\lib\\site-packages\\scipy\\stats\\stats.py:1394: UserWarning: kurtosistest only valid for n>=20 ... continuing anyway, n=10\n",
      "  \"anyway, n=%i\" % int(n))\n"
     ]
    },
    {
     "data": {
      "text/html": [
       "<table class=\"simpletable\">\n",
       "<caption>OLS Regression Results</caption>\n",
       "<tr>\n",
       "  <th>Dep. Variable:</th>         <td>liking</td>      <th>  R-squared:         </th> <td>   0.869</td>\n",
       "</tr>\n",
       "<tr>\n",
       "  <th>Model:</th>                   <td>OLS</td>       <th>  Adj. R-squared:    </th> <td>   0.764</td>\n",
       "</tr>\n",
       "<tr>\n",
       "  <th>Method:</th>             <td>Least Squares</td>  <th>  F-statistic:       </th> <td>   8.286</td>\n",
       "</tr>\n",
       "<tr>\n",
       "  <th>Date:</th>             <td>Thu, 13 Sep 2018</td> <th>  Prob (F-statistic):</th>  <td>0.0197</td> \n",
       "</tr>\n",
       "<tr>\n",
       "  <th>Time:</th>                 <td>15:34:10</td>     <th>  Log-Likelihood:    </th> <td> -13.933</td>\n",
       "</tr>\n",
       "<tr>\n",
       "  <th>No. Observations:</th>      <td>    10</td>      <th>  AIC:               </th> <td>   37.87</td>\n",
       "</tr>\n",
       "<tr>\n",
       "  <th>Df Residuals:</th>          <td>     5</td>      <th>  BIC:               </th> <td>   39.38</td>\n",
       "</tr>\n",
       "<tr>\n",
       "  <th>Df Model:</th>              <td>     4</td>      <th>                     </th>     <td> </td>   \n",
       "</tr>\n",
       "<tr>\n",
       "  <th>Covariance Type:</th>      <td>nonrobust</td>    <th>                     </th>     <td> </td>   \n",
       "</tr>\n",
       "</table>\n",
       "<table class=\"simpletable\">\n",
       "<tr>\n",
       "        <td></td>          <th>coef</th>     <th>std err</th>      <th>t</th>      <th>P>|t|</th>  <th>[0.025</th>    <th>0.975]</th>  \n",
       "</tr>\n",
       "<tr>\n",
       "  <th>Intercept</th>    <td>    1.9694</td> <td>    1.482</td> <td>    1.329</td> <td> 0.241</td> <td>   -1.839</td> <td>    5.778</td>\n",
       "</tr>\n",
       "<tr>\n",
       "  <th>C(talk)[T.2]</th> <td>   -1.4892</td> <td>    1.100</td> <td>   -1.354</td> <td> 0.234</td> <td>   -4.317</td> <td>    1.338</td>\n",
       "</tr>\n",
       "<tr>\n",
       "  <th>C(talk)[T.3]</th> <td>    1.5572</td> <td>    1.156</td> <td>    1.347</td> <td> 0.236</td> <td>   -1.414</td> <td>    4.528</td>\n",
       "</tr>\n",
       "<tr>\n",
       "  <th>smile</th>        <td>   -0.1523</td> <td>    1.576</td> <td>   -0.097</td> <td> 0.927</td> <td>   -4.204</td> <td>    3.899</td>\n",
       "</tr>\n",
       "<tr>\n",
       "  <th>money</th>        <td>    0.7033</td> <td>    0.161</td> <td>    4.367</td> <td> 0.007</td> <td>    0.289</td> <td>    1.117</td>\n",
       "</tr>\n",
       "</table>\n",
       "<table class=\"simpletable\">\n",
       "<tr>\n",
       "  <th>Omnibus:</th>       <td> 1.715</td> <th>  Durbin-Watson:     </th> <td>   2.982</td>\n",
       "</tr>\n",
       "<tr>\n",
       "  <th>Prob(Omnibus):</th> <td> 0.424</td> <th>  Jarque-Bera (JB):  </th> <td>   1.041</td>\n",
       "</tr>\n",
       "<tr>\n",
       "  <th>Skew:</th>          <td> 0.512</td> <th>  Prob(JB):          </th> <td>   0.594</td>\n",
       "</tr>\n",
       "<tr>\n",
       "  <th>Kurtosis:</th>      <td> 1.797</td> <th>  Cond. No.          </th> <td>    28.6</td>\n",
       "</tr>\n",
       "</table><br/><br/>Warnings:<br/>[1] Standard Errors assume that the covariance matrix of the errors is correctly specified."
      ],
      "text/plain": [
       "<class 'statsmodels.iolib.summary.Summary'>\n",
       "\"\"\"\n",
       "                            OLS Regression Results                            \n",
       "==============================================================================\n",
       "Dep. Variable:                 liking   R-squared:                       0.869\n",
       "Model:                            OLS   Adj. R-squared:                  0.764\n",
       "Method:                 Least Squares   F-statistic:                     8.286\n",
       "Date:                Thu, 13 Sep 2018   Prob (F-statistic):             0.0197\n",
       "Time:                        15:34:10   Log-Likelihood:                -13.933\n",
       "No. Observations:                  10   AIC:                             37.87\n",
       "Df Residuals:                       5   BIC:                             39.38\n",
       "Df Model:                           4                                         \n",
       "Covariance Type:            nonrobust                                         \n",
       "================================================================================\n",
       "                   coef    std err          t      P>|t|      [0.025      0.975]\n",
       "--------------------------------------------------------------------------------\n",
       "Intercept        1.9694      1.482      1.329      0.241      -1.839       5.778\n",
       "C(talk)[T.2]    -1.4892      1.100     -1.354      0.234      -4.317       1.338\n",
       "C(talk)[T.3]     1.5572      1.156      1.347      0.236      -1.414       4.528\n",
       "smile           -0.1523      1.576     -0.097      0.927      -4.204       3.899\n",
       "money            0.7033      0.161      4.367      0.007       0.289       1.117\n",
       "==============================================================================\n",
       "Omnibus:                        1.715   Durbin-Watson:                   2.982\n",
       "Prob(Omnibus):                  0.424   Jarque-Bera (JB):                1.041\n",
       "Skew:                           0.512   Prob(JB):                        0.594\n",
       "Kurtosis:                       1.797   Cond. No.                         28.6\n",
       "==============================================================================\n",
       "\n",
       "Warnings:\n",
       "[1] Standard Errors assume that the covariance matrix of the errors is correctly specified.\n",
       "\"\"\""
      ]
     },
     "execution_count": 118,
     "metadata": {},
     "output_type": "execute_result"
    }
   ],
   "source": [
    "fit = ols_formula('liking ~ smile + money + C(talk)', data=data_df).fit() \n",
    "fit.summary()"
   ]
  },
  {
   "cell_type": "code",
   "execution_count": 120,
   "metadata": {},
   "outputs": [],
   "source": [
    "from statsmodels.discrete.discrete_model import Logit as my_logit"
   ]
  },
  {
   "cell_type": "code",
   "execution_count": 121,
   "metadata": {},
   "outputs": [],
   "source": [
    "liking = np.array([0, 0, 0, 0, 1, 1, 0, 1, 1, 1])"
   ]
  },
  {
   "cell_type": "code",
   "execution_count": 126,
   "metadata": {},
   "outputs": [],
   "source": [
    "data_df = pd.DataFrame({'smile' : smile, 'money' : money})"
   ]
  },
  {
   "cell_type": "code",
   "execution_count": 127,
   "metadata": {},
   "outputs": [
    {
     "name": "stdout",
     "output_type": "stream",
     "text": [
      "Optimization terminated successfully.\n",
      "         Current function value: 0.347148\n",
      "         Iterations 8\n"
     ]
    },
    {
     "data": {
      "text/html": [
       "<table class=\"simpletable\">\n",
       "<caption>Logit Regression Results</caption>\n",
       "<tr>\n",
       "  <th>Dep. Variable:</th>         <td>y</td>        <th>  No. Observations:  </th>  <td>    10</td> \n",
       "</tr>\n",
       "<tr>\n",
       "  <th>Model:</th>               <td>Logit</td>      <th>  Df Residuals:      </th>  <td>     7</td> \n",
       "</tr>\n",
       "<tr>\n",
       "  <th>Method:</th>               <td>MLE</td>       <th>  Df Model:          </th>  <td>     2</td> \n",
       "</tr>\n",
       "<tr>\n",
       "  <th>Date:</th>          <td>Thu, 13 Sep 2018</td> <th>  Pseudo R-squ.:     </th>  <td>0.4992</td> \n",
       "</tr>\n",
       "<tr>\n",
       "  <th>Time:</th>              <td>15:53:52</td>     <th>  Log-Likelihood:    </th> <td> -3.4715</td>\n",
       "</tr>\n",
       "<tr>\n",
       "  <th>converged:</th>           <td>True</td>       <th>  LL-Null:           </th> <td> -6.9315</td>\n",
       "</tr>\n",
       "<tr>\n",
       "  <th> </th>                      <td> </td>        <th>  LLR p-value:       </th>  <td>0.03143</td>\n",
       "</tr>\n",
       "</table>\n",
       "<table class=\"simpletable\">\n",
       "<tr>\n",
       "    <td></td>       <th>coef</th>     <th>std err</th>      <th>z</th>      <th>P>|z|</th>  <th>[0.025</th>    <th>0.975]</th>  \n",
       "</tr>\n",
       "<tr>\n",
       "  <th>const</th> <td>   -4.5794</td> <td>    3.276</td> <td>   -1.398</td> <td> 0.162</td> <td>  -11.001</td> <td>    1.842</td>\n",
       "</tr>\n",
       "<tr>\n",
       "  <th>smile</th> <td>   -1.4755</td> <td>    3.621</td> <td>   -0.407</td> <td> 0.684</td> <td>   -8.573</td> <td>    5.622</td>\n",
       "</tr>\n",
       "<tr>\n",
       "  <th>money</th> <td>    0.9312</td> <td>    0.593</td> <td>    1.569</td> <td> 0.117</td> <td>   -0.232</td> <td>    2.094</td>\n",
       "</tr>\n",
       "</table>"
      ],
      "text/plain": [
       "<class 'statsmodels.iolib.summary.Summary'>\n",
       "\"\"\"\n",
       "                           Logit Regression Results                           \n",
       "==============================================================================\n",
       "Dep. Variable:                      y   No. Observations:                   10\n",
       "Model:                          Logit   Df Residuals:                        7\n",
       "Method:                           MLE   Df Model:                            2\n",
       "Date:                Thu, 13 Sep 2018   Pseudo R-squ.:                  0.4992\n",
       "Time:                        15:53:52   Log-Likelihood:                -3.4715\n",
       "converged:                       True   LL-Null:                       -6.9315\n",
       "                                        LLR p-value:                   0.03143\n",
       "==============================================================================\n",
       "                 coef    std err          z      P>|z|      [0.025      0.975]\n",
       "------------------------------------------------------------------------------\n",
       "const         -4.5794      3.276     -1.398      0.162     -11.001       1.842\n",
       "smile         -1.4755      3.621     -0.407      0.684      -8.573       5.622\n",
       "money          0.9312      0.593      1.569      0.117      -0.232       2.094\n",
       "==============================================================================\n",
       "\"\"\""
      ]
     },
     "execution_count": 127,
     "metadata": {},
     "output_type": "execute_result"
    }
   ],
   "source": [
    "X_predictors = sm.add_constant(data_df)    #note that you need to add_contant (include intercept) to use statsmodels OLS()\n",
    "\n",
    "regression_results = my_logit(liking, X_predictors).fit()\n",
    "regression_results.summary()"
   ]
  },
  {
   "cell_type": "code",
   "execution_count": 2,
   "metadata": {},
   "outputs": [],
   "source": [
    "f_stat = 10.43\n",
    "df1 = 3-1\n",
    "df2 = 48-3"
   ]
  },
  {
   "cell_type": "code",
   "execution_count": 4,
   "metadata": {},
   "outputs": [
    {
     "data": {
      "text/plain": [
       "0.9998102015259316"
      ]
     },
     "execution_count": 4,
     "metadata": {},
     "output_type": "execute_result"
    }
   ],
   "source": [
    "sp.stats.f.cdf(f_stat, df1, df2)"
   ]
  },
  {
   "cell_type": "code",
   "execution_count": 20,
   "metadata": {},
   "outputs": [],
   "source": [
    "classical_data_string = '226.16771 296.35873 306.83383 546.01098 660.03546 723.85261 184.26730 522.99710 373.47220 448.96608 84.37506 87.22240 253.09995 620.77342 453.90322'\n",
    "classical_data_parts = classical_data_string.split(' ')\n",
    "classical_data_parts\n",
    "song_data = pd.DataFrame({'genre' : 'classical', 'duration' : classical_data_parts})\n",
    "song_data['duration'] = pd.to_numeric(song_data['duration'])\n",
    "classical_data = song_data.copy()"
   ]
  },
  {
   "cell_type": "code",
   "execution_count": 22,
   "metadata": {},
   "outputs": [],
   "source": [
    "hiphop_data_string = '50.23302 215.30077 236.19873 305.50159 299.23220 266.63138 29.88363 344.84200 65.07057 57.20771 217.93914 250.95791 65.30567 229.56363 249.96526 37.61587'\n",
    "hiphop_data_parts = hiphop_data_string.split(' ')\n",
    "hiphop_data = pd.DataFrame({'genre' : 'hip-hop', 'duration' : hiphop_data_parts})\n",
    "hiphop_data['duration'] = pd.to_numeric(hiphop_data['duration'])\n",
    "song_data = song_data.append(hiphop_data)\n"
   ]
  },
  {
   "cell_type": "code",
   "execution_count": 23,
   "metadata": {},
   "outputs": [
    {
     "data": {
      "text/plain": [
       "(0.9618350863456726, 0.7242573499679565)"
      ]
     },
     "execution_count": 23,
     "metadata": {},
     "output_type": "execute_result"
    }
   ],
   "source": [
    "sp.stats.shapiro(classical_data['duration'])"
   ]
  },
  {
   "cell_type": "code",
   "execution_count": 24,
   "metadata": {},
   "outputs": [
    {
     "data": {
      "text/plain": [
       "(0.8602303862571716, 0.019337311387062073)"
      ]
     },
     "execution_count": 24,
     "metadata": {},
     "output_type": "execute_result"
    }
   ],
   "source": [
    "sp.stats.shapiro(hiphop_data['duration'])"
   ]
  },
  {
   "cell_type": "code",
   "execution_count": 25,
   "metadata": {},
   "outputs": [
    {
     "data": {
      "text/plain": [
       "BartlettResult(statistic=4.908182663451749, pvalue=0.026729750378193425)"
      ]
     },
     "execution_count": 25,
     "metadata": {},
     "output_type": "execute_result"
    }
   ],
   "source": [
    "sp.stats.bartlett(classical_data['duration'], hiphop_data['duration'])"
   ]
  },
  {
   "cell_type": "code",
   "execution_count": 29,
   "metadata": {},
   "outputs": [
    {
     "data": {
      "text/plain": [
       "LeveneResult(statistic=6.1017679899797095, pvalue=0.019629010452812755)"
      ]
     },
     "execution_count": 29,
     "metadata": {},
     "output_type": "execute_result"
    }
   ],
   "source": [
    "sp.stats.levene(classical_data['duration'], hiphop_data['duration'])"
   ]
  },
  {
   "cell_type": "code",
   "execution_count": 30,
   "metadata": {},
   "outputs": [
    {
     "data": {
      "text/html": [
       "<div>\n",
       "<style scoped>\n",
       "    .dataframe tbody tr th:only-of-type {\n",
       "        vertical-align: middle;\n",
       "    }\n",
       "\n",
       "    .dataframe tbody tr th {\n",
       "        vertical-align: top;\n",
       "    }\n",
       "\n",
       "    .dataframe thead th {\n",
       "        text-align: right;\n",
       "    }\n",
       "</style>\n",
       "<table border=\"1\" class=\"dataframe\">\n",
       "  <thead>\n",
       "    <tr style=\"text-align: right;\">\n",
       "      <th></th>\n",
       "      <th>genre</th>\n",
       "      <th>duration</th>\n",
       "    </tr>\n",
       "  </thead>\n",
       "  <tbody>\n",
       "    <tr>\n",
       "      <th>0</th>\n",
       "      <td>pop</td>\n",
       "      <td>246.43873</td>\n",
       "    </tr>\n",
       "    <tr>\n",
       "      <th>1</th>\n",
       "      <td>pop</td>\n",
       "      <td>202.94485</td>\n",
       "    </tr>\n",
       "    <tr>\n",
       "      <th>2</th>\n",
       "      <td>pop</td>\n",
       "      <td>286.90240</td>\n",
       "    </tr>\n",
       "    <tr>\n",
       "      <th>3</th>\n",
       "      <td>pop</td>\n",
       "      <td>225.14893</td>\n",
       "    </tr>\n",
       "    <tr>\n",
       "      <th>4</th>\n",
       "      <td>pop</td>\n",
       "      <td>64.67873</td>\n",
       "    </tr>\n",
       "    <tr>\n",
       "      <th>5</th>\n",
       "      <td>pop</td>\n",
       "      <td>151.64036</td>\n",
       "    </tr>\n",
       "    <tr>\n",
       "      <th>6</th>\n",
       "      <td>pop</td>\n",
       "      <td>235.96363</td>\n",
       "    </tr>\n",
       "    <tr>\n",
       "      <th>7</th>\n",
       "      <td>pop</td>\n",
       "      <td>220.21179</td>\n",
       "    </tr>\n",
       "    <tr>\n",
       "      <th>8</th>\n",
       "      <td>pop</td>\n",
       "      <td>160.23465</td>\n",
       "    </tr>\n",
       "    <tr>\n",
       "      <th>9</th>\n",
       "      <td>pop</td>\n",
       "      <td>251.66322</td>\n",
       "    </tr>\n",
       "    <tr>\n",
       "      <th>10</th>\n",
       "      <td>pop</td>\n",
       "      <td>264.67220</td>\n",
       "    </tr>\n",
       "    <tr>\n",
       "      <th>11</th>\n",
       "      <td>pop</td>\n",
       "      <td>189.49179</td>\n",
       "    </tr>\n",
       "    <tr>\n",
       "      <th>12</th>\n",
       "      <td>pop</td>\n",
       "      <td>196.17914</td>\n",
       "    </tr>\n",
       "    <tr>\n",
       "      <th>13</th>\n",
       "      <td>pop</td>\n",
       "      <td>191.84281</td>\n",
       "    </tr>\n",
       "    <tr>\n",
       "      <th>14</th>\n",
       "      <td>pop</td>\n",
       "      <td>282.22649</td>\n",
       "    </tr>\n",
       "    <tr>\n",
       "      <th>15</th>\n",
       "      <td>pop</td>\n",
       "      <td>180.74077</td>\n",
       "    </tr>\n",
       "    <tr>\n",
       "      <th>16</th>\n",
       "      <td>pop</td>\n",
       "      <td>230.37342</td>\n",
       "    </tr>\n",
       "  </tbody>\n",
       "</table>\n",
       "</div>"
      ],
      "text/plain": [
       "   genre   duration\n",
       "0    pop  246.43873\n",
       "1    pop  202.94485\n",
       "2    pop  286.90240\n",
       "3    pop  225.14893\n",
       "4    pop   64.67873\n",
       "5    pop  151.64036\n",
       "6    pop  235.96363\n",
       "7    pop  220.21179\n",
       "8    pop  160.23465\n",
       "9    pop  251.66322\n",
       "10   pop  264.67220\n",
       "11   pop  189.49179\n",
       "12   pop  196.17914\n",
       "13   pop  191.84281\n",
       "14   pop  282.22649\n",
       "15   pop  180.74077\n",
       "16   pop  230.37342"
      ]
     },
     "execution_count": 30,
     "metadata": {},
     "output_type": "execute_result"
    }
   ],
   "source": [
    "pop_data_string = '246.43873 202.94485 286.90240 225.14893 64.67873 151.64036 235.96363 220.21179 160.23465 251.66322 264.67220 189.49179 196.17914 191.84281 282.22649 180.74077 230.37342'\n",
    "pop_data_parts = pop_data_string.split(' ')\n",
    "pop_data = pd.DataFrame({'genre' : 'pop', 'duration' : pop_data_parts})\n",
    "pop_data['duration'] = pd.to_numeric(pop_data['duration'])\n",
    "\n"
   ]
  },
  {
   "cell_type": "code",
   "execution_count": 31,
   "metadata": {},
   "outputs": [
    {
     "data": {
      "text/html": [
       "<div>\n",
       "<style scoped>\n",
       "    .dataframe tbody tr th:only-of-type {\n",
       "        vertical-align: middle;\n",
       "    }\n",
       "\n",
       "    .dataframe tbody tr th {\n",
       "        vertical-align: top;\n",
       "    }\n",
       "\n",
       "    .dataframe thead th {\n",
       "        text-align: right;\n",
       "    }\n",
       "</style>\n",
       "<table border=\"1\" class=\"dataframe\">\n",
       "  <thead>\n",
       "    <tr style=\"text-align: right;\">\n",
       "      <th></th>\n",
       "      <th>genre</th>\n",
       "      <th>duration</th>\n",
       "    </tr>\n",
       "  </thead>\n",
       "  <tbody>\n",
       "    <tr>\n",
       "      <th>0</th>\n",
       "      <td>classical</td>\n",
       "      <td>226.16771</td>\n",
       "    </tr>\n",
       "    <tr>\n",
       "      <th>1</th>\n",
       "      <td>classical</td>\n",
       "      <td>296.35873</td>\n",
       "    </tr>\n",
       "    <tr>\n",
       "      <th>2</th>\n",
       "      <td>classical</td>\n",
       "      <td>306.83383</td>\n",
       "    </tr>\n",
       "    <tr>\n",
       "      <th>3</th>\n",
       "      <td>classical</td>\n",
       "      <td>546.01098</td>\n",
       "    </tr>\n",
       "    <tr>\n",
       "      <th>4</th>\n",
       "      <td>classical</td>\n",
       "      <td>660.03546</td>\n",
       "    </tr>\n",
       "    <tr>\n",
       "      <th>5</th>\n",
       "      <td>classical</td>\n",
       "      <td>723.85261</td>\n",
       "    </tr>\n",
       "    <tr>\n",
       "      <th>6</th>\n",
       "      <td>classical</td>\n",
       "      <td>184.26730</td>\n",
       "    </tr>\n",
       "    <tr>\n",
       "      <th>7</th>\n",
       "      <td>classical</td>\n",
       "      <td>522.99710</td>\n",
       "    </tr>\n",
       "    <tr>\n",
       "      <th>8</th>\n",
       "      <td>classical</td>\n",
       "      <td>373.47220</td>\n",
       "    </tr>\n",
       "    <tr>\n",
       "      <th>9</th>\n",
       "      <td>classical</td>\n",
       "      <td>448.96608</td>\n",
       "    </tr>\n",
       "    <tr>\n",
       "      <th>10</th>\n",
       "      <td>classical</td>\n",
       "      <td>84.37506</td>\n",
       "    </tr>\n",
       "    <tr>\n",
       "      <th>11</th>\n",
       "      <td>classical</td>\n",
       "      <td>87.22240</td>\n",
       "    </tr>\n",
       "    <tr>\n",
       "      <th>12</th>\n",
       "      <td>classical</td>\n",
       "      <td>253.09995</td>\n",
       "    </tr>\n",
       "    <tr>\n",
       "      <th>13</th>\n",
       "      <td>classical</td>\n",
       "      <td>620.77342</td>\n",
       "    </tr>\n",
       "    <tr>\n",
       "      <th>14</th>\n",
       "      <td>classical</td>\n",
       "      <td>453.90322</td>\n",
       "    </tr>\n",
       "    <tr>\n",
       "      <th>0</th>\n",
       "      <td>hip-hop</td>\n",
       "      <td>50.23302</td>\n",
       "    </tr>\n",
       "    <tr>\n",
       "      <th>1</th>\n",
       "      <td>hip-hop</td>\n",
       "      <td>215.30077</td>\n",
       "    </tr>\n",
       "    <tr>\n",
       "      <th>2</th>\n",
       "      <td>hip-hop</td>\n",
       "      <td>236.19873</td>\n",
       "    </tr>\n",
       "    <tr>\n",
       "      <th>3</th>\n",
       "      <td>hip-hop</td>\n",
       "      <td>305.50159</td>\n",
       "    </tr>\n",
       "    <tr>\n",
       "      <th>4</th>\n",
       "      <td>hip-hop</td>\n",
       "      <td>299.23220</td>\n",
       "    </tr>\n",
       "    <tr>\n",
       "      <th>5</th>\n",
       "      <td>hip-hop</td>\n",
       "      <td>266.63138</td>\n",
       "    </tr>\n",
       "    <tr>\n",
       "      <th>6</th>\n",
       "      <td>hip-hop</td>\n",
       "      <td>29.88363</td>\n",
       "    </tr>\n",
       "    <tr>\n",
       "      <th>7</th>\n",
       "      <td>hip-hop</td>\n",
       "      <td>344.84200</td>\n",
       "    </tr>\n",
       "    <tr>\n",
       "      <th>8</th>\n",
       "      <td>hip-hop</td>\n",
       "      <td>65.07057</td>\n",
       "    </tr>\n",
       "    <tr>\n",
       "      <th>9</th>\n",
       "      <td>hip-hop</td>\n",
       "      <td>57.20771</td>\n",
       "    </tr>\n",
       "    <tr>\n",
       "      <th>10</th>\n",
       "      <td>hip-hop</td>\n",
       "      <td>217.93914</td>\n",
       "    </tr>\n",
       "    <tr>\n",
       "      <th>11</th>\n",
       "      <td>hip-hop</td>\n",
       "      <td>250.95791</td>\n",
       "    </tr>\n",
       "    <tr>\n",
       "      <th>12</th>\n",
       "      <td>hip-hop</td>\n",
       "      <td>65.30567</td>\n",
       "    </tr>\n",
       "    <tr>\n",
       "      <th>13</th>\n",
       "      <td>hip-hop</td>\n",
       "      <td>229.56363</td>\n",
       "    </tr>\n",
       "    <tr>\n",
       "      <th>14</th>\n",
       "      <td>hip-hop</td>\n",
       "      <td>249.96526</td>\n",
       "    </tr>\n",
       "    <tr>\n",
       "      <th>15</th>\n",
       "      <td>hip-hop</td>\n",
       "      <td>37.61587</td>\n",
       "    </tr>\n",
       "    <tr>\n",
       "      <th>0</th>\n",
       "      <td>pop</td>\n",
       "      <td>246.43873</td>\n",
       "    </tr>\n",
       "    <tr>\n",
       "      <th>1</th>\n",
       "      <td>pop</td>\n",
       "      <td>202.94485</td>\n",
       "    </tr>\n",
       "    <tr>\n",
       "      <th>2</th>\n",
       "      <td>pop</td>\n",
       "      <td>286.90240</td>\n",
       "    </tr>\n",
       "    <tr>\n",
       "      <th>3</th>\n",
       "      <td>pop</td>\n",
       "      <td>225.14893</td>\n",
       "    </tr>\n",
       "    <tr>\n",
       "      <th>4</th>\n",
       "      <td>pop</td>\n",
       "      <td>64.67873</td>\n",
       "    </tr>\n",
       "    <tr>\n",
       "      <th>5</th>\n",
       "      <td>pop</td>\n",
       "      <td>151.64036</td>\n",
       "    </tr>\n",
       "    <tr>\n",
       "      <th>6</th>\n",
       "      <td>pop</td>\n",
       "      <td>235.96363</td>\n",
       "    </tr>\n",
       "    <tr>\n",
       "      <th>7</th>\n",
       "      <td>pop</td>\n",
       "      <td>220.21179</td>\n",
       "    </tr>\n",
       "    <tr>\n",
       "      <th>8</th>\n",
       "      <td>pop</td>\n",
       "      <td>160.23465</td>\n",
       "    </tr>\n",
       "    <tr>\n",
       "      <th>9</th>\n",
       "      <td>pop</td>\n",
       "      <td>251.66322</td>\n",
       "    </tr>\n",
       "    <tr>\n",
       "      <th>10</th>\n",
       "      <td>pop</td>\n",
       "      <td>264.67220</td>\n",
       "    </tr>\n",
       "    <tr>\n",
       "      <th>11</th>\n",
       "      <td>pop</td>\n",
       "      <td>189.49179</td>\n",
       "    </tr>\n",
       "    <tr>\n",
       "      <th>12</th>\n",
       "      <td>pop</td>\n",
       "      <td>196.17914</td>\n",
       "    </tr>\n",
       "    <tr>\n",
       "      <th>13</th>\n",
       "      <td>pop</td>\n",
       "      <td>191.84281</td>\n",
       "    </tr>\n",
       "    <tr>\n",
       "      <th>14</th>\n",
       "      <td>pop</td>\n",
       "      <td>282.22649</td>\n",
       "    </tr>\n",
       "    <tr>\n",
       "      <th>15</th>\n",
       "      <td>pop</td>\n",
       "      <td>180.74077</td>\n",
       "    </tr>\n",
       "    <tr>\n",
       "      <th>16</th>\n",
       "      <td>pop</td>\n",
       "      <td>230.37342</td>\n",
       "    </tr>\n",
       "  </tbody>\n",
       "</table>\n",
       "</div>"
      ],
      "text/plain": [
       "        genre   duration\n",
       "0   classical  226.16771\n",
       "1   classical  296.35873\n",
       "2   classical  306.83383\n",
       "3   classical  546.01098\n",
       "4   classical  660.03546\n",
       "5   classical  723.85261\n",
       "6   classical  184.26730\n",
       "7   classical  522.99710\n",
       "8   classical  373.47220\n",
       "9   classical  448.96608\n",
       "10  classical   84.37506\n",
       "11  classical   87.22240\n",
       "12  classical  253.09995\n",
       "13  classical  620.77342\n",
       "14  classical  453.90322\n",
       "0     hip-hop   50.23302\n",
       "1     hip-hop  215.30077\n",
       "2     hip-hop  236.19873\n",
       "3     hip-hop  305.50159\n",
       "4     hip-hop  299.23220\n",
       "5     hip-hop  266.63138\n",
       "6     hip-hop   29.88363\n",
       "7     hip-hop  344.84200\n",
       "8     hip-hop   65.07057\n",
       "9     hip-hop   57.20771\n",
       "10    hip-hop  217.93914\n",
       "11    hip-hop  250.95791\n",
       "12    hip-hop   65.30567\n",
       "13    hip-hop  229.56363\n",
       "14    hip-hop  249.96526\n",
       "15    hip-hop   37.61587\n",
       "0         pop  246.43873\n",
       "1         pop  202.94485\n",
       "2         pop  286.90240\n",
       "3         pop  225.14893\n",
       "4         pop   64.67873\n",
       "5         pop  151.64036\n",
       "6         pop  235.96363\n",
       "7         pop  220.21179\n",
       "8         pop  160.23465\n",
       "9         pop  251.66322\n",
       "10        pop  264.67220\n",
       "11        pop  189.49179\n",
       "12        pop  196.17914\n",
       "13        pop  191.84281\n",
       "14        pop  282.22649\n",
       "15        pop  180.74077\n",
       "16        pop  230.37342"
      ]
     },
     "execution_count": 31,
     "metadata": {},
     "output_type": "execute_result"
    }
   ],
   "source": [
    "song_data = song_data.append(pop_data)\n"
   ]
  },
  {
   "cell_type": "code",
   "execution_count": 34,
   "metadata": {},
   "outputs": [],
   "source": [
    "song_data = song_data.reset_index(drop=True)"
   ]
  },
  {
   "cell_type": "code",
   "execution_count": 41,
   "metadata": {},
   "outputs": [
    {
     "data": {
      "text/plain": [
       "F_onewayResult(statistic=10.430959139004667, pvalue=0.000189674132473244)"
      ]
     },
     "execution_count": 41,
     "metadata": {},
     "output_type": "execute_result"
    }
   ],
   "source": [
    "sp.stats.f_oneway(song_data[song_data['genre'] == 'classical']['duration'], song_data[song_data['genre'] == 'hip-hop']['duration'], song_data[song_data['genre'] == 'pop']['duration'])"
   ]
  },
  {
   "cell_type": "code",
   "execution_count": 40,
   "metadata": {},
   "outputs": [
    {
     "data": {
      "text/plain": [
       "31    246.43873\n",
       "32    202.94485\n",
       "33    286.90240\n",
       "34    225.14893\n",
       "35     64.67873\n",
       "36    151.64036\n",
       "37    235.96363\n",
       "38    220.21179\n",
       "39    160.23465\n",
       "40    251.66322\n",
       "41    264.67220\n",
       "42    189.49179\n",
       "43    196.17914\n",
       "44    191.84281\n",
       "45    282.22649\n",
       "46    180.74077\n",
       "47    230.37342\n",
       "Name: duration, dtype: float64"
      ]
     },
     "execution_count": 40,
     "metadata": {},
     "output_type": "execute_result"
    }
   ],
   "source": [
    "song_data[song_data['genre'] == 'pop']['duration']"
   ]
  },
  {
   "cell_type": "code",
   "execution_count": 2,
   "metadata": {},
   "outputs": [],
   "source": [
    "from statsmodels.stats import anova as anova\n",
    "from statsmodels.formula.api import ols"
   ]
  },
  {
   "cell_type": "code",
   "execution_count": 51,
   "metadata": {},
   "outputs": [
    {
     "data": {
      "text/html": [
       "<div>\n",
       "<style scoped>\n",
       "    .dataframe tbody tr th:only-of-type {\n",
       "        vertical-align: middle;\n",
       "    }\n",
       "\n",
       "    .dataframe tbody tr th {\n",
       "        vertical-align: top;\n",
       "    }\n",
       "\n",
       "    .dataframe thead th {\n",
       "        text-align: right;\n",
       "    }\n",
       "</style>\n",
       "<table border=\"1\" class=\"dataframe\">\n",
       "  <thead>\n",
       "    <tr style=\"text-align: right;\">\n",
       "      <th></th>\n",
       "      <th>df</th>\n",
       "      <th>sum_sq</th>\n",
       "      <th>mean_sq</th>\n",
       "      <th>F</th>\n",
       "      <th>PR(&gt;F)</th>\n",
       "    </tr>\n",
       "  </thead>\n",
       "  <tbody>\n",
       "    <tr>\n",
       "      <th>genre</th>\n",
       "      <td>2.0</td>\n",
       "      <td>374225.492075</td>\n",
       "      <td>187112.746037</td>\n",
       "      <td>10.430959</td>\n",
       "      <td>0.00019</td>\n",
       "    </tr>\n",
       "    <tr>\n",
       "      <th>Residual</th>\n",
       "      <td>45.0</td>\n",
       "      <td>807219.495300</td>\n",
       "      <td>17938.211007</td>\n",
       "      <td>NaN</td>\n",
       "      <td>NaN</td>\n",
       "    </tr>\n",
       "  </tbody>\n",
       "</table>\n",
       "</div>"
      ],
      "text/plain": [
       "            df         sum_sq        mean_sq          F   PR(>F)\n",
       "genre      2.0  374225.492075  187112.746037  10.430959  0.00019\n",
       "Residual  45.0  807219.495300   17938.211007        NaN      NaN"
      ]
     },
     "execution_count": 51,
     "metadata": {},
     "output_type": "execute_result"
    }
   ],
   "source": [
    "\n",
    "fit = ols('duration ~ genre', data=song_data).fit() \n",
    "anova.anova_lm(fit)"
   ]
  },
  {
   "cell_type": "code",
   "execution_count": 53,
   "metadata": {},
   "outputs": [
    {
     "data": {
      "text/html": [
       "<table class=\"simpletable\">\n",
       "<caption>Multiple Comparison of Means - Tukey HSD,FWER=0.05</caption>\n",
       "<tr>\n",
       "   <th>group1</th>   <th>group2</th>  <th>meandiff</th>    <th>lower</th>     <th>upper</th>  <th>reject</th>\n",
       "</tr>\n",
       "<tr>\n",
       "  <td>classical</td> <td>hip-hop</td> <td>-203.2985</td> <td>-319.9574</td> <td>-86.6396</td>  <td>True</td> \n",
       "</tr>\n",
       "<tr>\n",
       "  <td>classical</td>   <td>pop</td>   <td>-175.2212</td> <td>-290.2079</td> <td>-60.2345</td>  <td>True</td> \n",
       "</tr>\n",
       "<tr>\n",
       "   <td>hip-hop</td>    <td>pop</td>    <td>28.0773</td>  <td>-84.9843</td>  <td>141.1389</td>  <td>False</td>\n",
       "</tr>\n",
       "</table>"
      ],
      "text/plain": [
       "<class 'statsmodels.iolib.table.SimpleTable'>"
      ]
     },
     "execution_count": 53,
     "metadata": {},
     "output_type": "execute_result"
    }
   ],
   "source": [
    "from statsmodels.stats.multicomp import pairwise_tukeyhsd\n",
    "pairwise_tukeyhsd(song_data['duration'], song_data['genre']).summary()"
   ]
  },
  {
   "cell_type": "code",
   "execution_count": 6,
   "metadata": {},
   "outputs": [],
   "source": [
    "genre_string = '\"classical\" \"classical\" \"classical\" \"classical\" \"classical\" \"classical\" \"classical\" \"classical\" \"hip-hop\"   \"classical\" \"hip-hop\"   \"hip-hop\" \"classical\" \"pop\"       \"pop\"       \"hip-hop\"   \"pop\"       \"classical\" \"pop\"       \"hip-hop\"   \"hip-hop\"   \"pop\"       \"hip-hop\"   \"pop\"      \"pop\"       \"hip-hop\"   \"classical\" \"pop\"       \"pop\"       \"hip-hop\"  \"hip-hop\"   \"pop\"       \"pop\"       \"pop\"       \"pop\"       \"classical\" \"pop\"       \"pop\"       \"pop\"       \"classical\" \"classical\" \"hip-hop\"  \"hip-hop\"   \"pop\"       \"hip-hop\"   \"hip-hop\"   \"hip-hop\"   \"hip-hop\"'\n",
    "genre_string = genre_string.replace('\"', ' ')\n",
    "genre_data = genre_string.split()"
   ]
  },
  {
   "cell_type": "code",
   "execution_count": 5,
   "metadata": {},
   "outputs": [],
   "source": [
    "duration_string = '723.85261 660.03546 620.77342 546.01098 522.99710 453.90322 448.96608 373.47220 344.84200 306.83383 305.50159 299.23220 296.35873 286.90240 282.22649 266.63138 264.67220 253.09995 251.66322 250.95791 249.96526 246.43873 236.19873 235.96363 230.37342 229.56363 226.16771 225.14893 220.21179 217.93914 215.30077 202.94485 196.17914 191.84281 189.49179 184.26730 180.74077 160.23465 151.64036  87.22240  84.37506  65.30567 65.07057  64.67873  57.20771  50.23302  37.61587  29.88363'\n",
    "duration_data = duration_string.split()"
   ]
  },
  {
   "cell_type": "code",
   "execution_count": 9,
   "metadata": {},
   "outputs": [
    {
     "data": {
      "text/plain": [
       "['North America',\n",
       " 'North America',\n",
       " 'North America',\n",
       " 'North America',\n",
       " 'North America',\n",
       " 'Europe',\n",
       " 'Europe',\n",
       " 'North America',\n",
       " 'North America',\n",
       " 'North America',\n",
       " 'North America',\n",
       " 'North America',\n",
       " 'Europe',\n",
       " 'Europe',\n",
       " 'Europe',\n",
       " 'North America',\n",
       " 'North America',\n",
       " 'North America',\n",
       " 'Europe',\n",
       " 'North America',\n",
       " 'Europe',\n",
       " 'Europe',\n",
       " 'Europe',\n",
       " 'Europe',\n",
       " 'Europe',\n",
       " 'North America',\n",
       " 'North America',\n",
       " 'North America',\n",
       " 'North America',\n",
       " 'North America',\n",
       " 'North America',\n",
       " 'North America',\n",
       " 'Europe',\n",
       " 'Europe',\n",
       " 'Europe',\n",
       " 'Europe',\n",
       " 'North America',\n",
       " 'North America',\n",
       " 'North America',\n",
       " 'Europe',\n",
       " 'Europe',\n",
       " 'Europe',\n",
       " 'Europe',\n",
       " 'North America',\n",
       " 'Europe',\n",
       " 'Europe',\n",
       " 'Europe',\n",
       " 'Europe']"
      ]
     },
     "execution_count": 9,
     "metadata": {},
     "output_type": "execute_result"
    }
   ],
   "source": [
    "continent_string = 'North America  North America  North America  North America  North America  Europe  Europe  North America  North America  North America  North America  North America  Europe  Europe  Europe  North America  North America  North America  Europe  North America  Europe  Europe  Europe  Europe  Europe  North America  North America  North America  North America  North America  North America  North America  Europe  Europe  Europe  Europe  North America  North America  North America  Europe  Europe  Europe  Europe  North America  Europe  Europe  Europe  Europe'\n",
    "#continent_string = continent_string.replace('\"', ' ')\n",
    "continent_data = continent_string.split('  ')\n",
    "continent_data"
   ]
  },
  {
   "cell_type": "code",
   "execution_count": null,
   "metadata": {},
   "outputs": [],
   "source": [
    "'North America  North America  North America  North America  North America  Europe  Europe  North America  North America  North America  North America  North America  Europe  Europe  Europe  North America  North America  North America  Europe  North America  Europe  Europe  Europe  Europe  Europe  North America  North America  North America  North America  North America  North America  North America  Europe  Europe  Europe  Europe  North America  North America  North America  Europe  Europe  Europe  Europe  North America  Europe  Europe  Europe  Europe'"
   ]
  },
  {
   "cell_type": "code",
   "execution_count": 10,
   "metadata": {},
   "outputs": [
    {
     "data": {
      "text/html": [
       "<div>\n",
       "<style scoped>\n",
       "    .dataframe tbody tr th:only-of-type {\n",
       "        vertical-align: middle;\n",
       "    }\n",
       "\n",
       "    .dataframe tbody tr th {\n",
       "        vertical-align: top;\n",
       "    }\n",
       "\n",
       "    .dataframe thead th {\n",
       "        text-align: right;\n",
       "    }\n",
       "</style>\n",
       "<table border=\"1\" class=\"dataframe\">\n",
       "  <thead>\n",
       "    <tr style=\"text-align: right;\">\n",
       "      <th></th>\n",
       "      <th>genre</th>\n",
       "      <th>duration</th>\n",
       "      <th>continent</th>\n",
       "    </tr>\n",
       "  </thead>\n",
       "  <tbody>\n",
       "    <tr>\n",
       "      <th>0</th>\n",
       "      <td>classical</td>\n",
       "      <td>723.85261</td>\n",
       "      <td>North America</td>\n",
       "    </tr>\n",
       "    <tr>\n",
       "      <th>1</th>\n",
       "      <td>classical</td>\n",
       "      <td>660.03546</td>\n",
       "      <td>North America</td>\n",
       "    </tr>\n",
       "    <tr>\n",
       "      <th>2</th>\n",
       "      <td>classical</td>\n",
       "      <td>620.77342</td>\n",
       "      <td>North America</td>\n",
       "    </tr>\n",
       "    <tr>\n",
       "      <th>3</th>\n",
       "      <td>classical</td>\n",
       "      <td>546.01098</td>\n",
       "      <td>North America</td>\n",
       "    </tr>\n",
       "    <tr>\n",
       "      <th>4</th>\n",
       "      <td>classical</td>\n",
       "      <td>522.99710</td>\n",
       "      <td>North America</td>\n",
       "    </tr>\n",
       "    <tr>\n",
       "      <th>5</th>\n",
       "      <td>classical</td>\n",
       "      <td>453.90322</td>\n",
       "      <td>Europe</td>\n",
       "    </tr>\n",
       "    <tr>\n",
       "      <th>6</th>\n",
       "      <td>classical</td>\n",
       "      <td>448.96608</td>\n",
       "      <td>Europe</td>\n",
       "    </tr>\n",
       "    <tr>\n",
       "      <th>7</th>\n",
       "      <td>classical</td>\n",
       "      <td>373.47220</td>\n",
       "      <td>North America</td>\n",
       "    </tr>\n",
       "    <tr>\n",
       "      <th>8</th>\n",
       "      <td>hip-hop</td>\n",
       "      <td>344.84200</td>\n",
       "      <td>North America</td>\n",
       "    </tr>\n",
       "    <tr>\n",
       "      <th>9</th>\n",
       "      <td>classical</td>\n",
       "      <td>306.83383</td>\n",
       "      <td>North America</td>\n",
       "    </tr>\n",
       "    <tr>\n",
       "      <th>10</th>\n",
       "      <td>hip-hop</td>\n",
       "      <td>305.50159</td>\n",
       "      <td>North America</td>\n",
       "    </tr>\n",
       "    <tr>\n",
       "      <th>11</th>\n",
       "      <td>hip-hop</td>\n",
       "      <td>299.23220</td>\n",
       "      <td>North America</td>\n",
       "    </tr>\n",
       "    <tr>\n",
       "      <th>12</th>\n",
       "      <td>classical</td>\n",
       "      <td>296.35873</td>\n",
       "      <td>Europe</td>\n",
       "    </tr>\n",
       "    <tr>\n",
       "      <th>13</th>\n",
       "      <td>pop</td>\n",
       "      <td>286.90240</td>\n",
       "      <td>Europe</td>\n",
       "    </tr>\n",
       "    <tr>\n",
       "      <th>14</th>\n",
       "      <td>pop</td>\n",
       "      <td>282.22649</td>\n",
       "      <td>Europe</td>\n",
       "    </tr>\n",
       "    <tr>\n",
       "      <th>15</th>\n",
       "      <td>hip-hop</td>\n",
       "      <td>266.63138</td>\n",
       "      <td>North America</td>\n",
       "    </tr>\n",
       "    <tr>\n",
       "      <th>16</th>\n",
       "      <td>pop</td>\n",
       "      <td>264.67220</td>\n",
       "      <td>North America</td>\n",
       "    </tr>\n",
       "    <tr>\n",
       "      <th>17</th>\n",
       "      <td>classical</td>\n",
       "      <td>253.09995</td>\n",
       "      <td>North America</td>\n",
       "    </tr>\n",
       "    <tr>\n",
       "      <th>18</th>\n",
       "      <td>pop</td>\n",
       "      <td>251.66322</td>\n",
       "      <td>Europe</td>\n",
       "    </tr>\n",
       "    <tr>\n",
       "      <th>19</th>\n",
       "      <td>hip-hop</td>\n",
       "      <td>250.95791</td>\n",
       "      <td>North America</td>\n",
       "    </tr>\n",
       "    <tr>\n",
       "      <th>20</th>\n",
       "      <td>hip-hop</td>\n",
       "      <td>249.96526</td>\n",
       "      <td>Europe</td>\n",
       "    </tr>\n",
       "    <tr>\n",
       "      <th>21</th>\n",
       "      <td>pop</td>\n",
       "      <td>246.43873</td>\n",
       "      <td>Europe</td>\n",
       "    </tr>\n",
       "    <tr>\n",
       "      <th>22</th>\n",
       "      <td>hip-hop</td>\n",
       "      <td>236.19873</td>\n",
       "      <td>Europe</td>\n",
       "    </tr>\n",
       "    <tr>\n",
       "      <th>23</th>\n",
       "      <td>pop</td>\n",
       "      <td>235.96363</td>\n",
       "      <td>Europe</td>\n",
       "    </tr>\n",
       "    <tr>\n",
       "      <th>24</th>\n",
       "      <td>pop</td>\n",
       "      <td>230.37342</td>\n",
       "      <td>Europe</td>\n",
       "    </tr>\n",
       "    <tr>\n",
       "      <th>25</th>\n",
       "      <td>hip-hop</td>\n",
       "      <td>229.56363</td>\n",
       "      <td>North America</td>\n",
       "    </tr>\n",
       "    <tr>\n",
       "      <th>26</th>\n",
       "      <td>classical</td>\n",
       "      <td>226.16771</td>\n",
       "      <td>North America</td>\n",
       "    </tr>\n",
       "    <tr>\n",
       "      <th>27</th>\n",
       "      <td>pop</td>\n",
       "      <td>225.14893</td>\n",
       "      <td>North America</td>\n",
       "    </tr>\n",
       "    <tr>\n",
       "      <th>28</th>\n",
       "      <td>pop</td>\n",
       "      <td>220.21179</td>\n",
       "      <td>North America</td>\n",
       "    </tr>\n",
       "    <tr>\n",
       "      <th>29</th>\n",
       "      <td>hip-hop</td>\n",
       "      <td>217.93914</td>\n",
       "      <td>North America</td>\n",
       "    </tr>\n",
       "    <tr>\n",
       "      <th>30</th>\n",
       "      <td>hip-hop</td>\n",
       "      <td>215.30077</td>\n",
       "      <td>North America</td>\n",
       "    </tr>\n",
       "    <tr>\n",
       "      <th>31</th>\n",
       "      <td>pop</td>\n",
       "      <td>202.94485</td>\n",
       "      <td>North America</td>\n",
       "    </tr>\n",
       "    <tr>\n",
       "      <th>32</th>\n",
       "      <td>pop</td>\n",
       "      <td>196.17914</td>\n",
       "      <td>Europe</td>\n",
       "    </tr>\n",
       "    <tr>\n",
       "      <th>33</th>\n",
       "      <td>pop</td>\n",
       "      <td>191.84281</td>\n",
       "      <td>Europe</td>\n",
       "    </tr>\n",
       "    <tr>\n",
       "      <th>34</th>\n",
       "      <td>pop</td>\n",
       "      <td>189.49179</td>\n",
       "      <td>Europe</td>\n",
       "    </tr>\n",
       "    <tr>\n",
       "      <th>35</th>\n",
       "      <td>classical</td>\n",
       "      <td>184.26730</td>\n",
       "      <td>Europe</td>\n",
       "    </tr>\n",
       "    <tr>\n",
       "      <th>36</th>\n",
       "      <td>pop</td>\n",
       "      <td>180.74077</td>\n",
       "      <td>North America</td>\n",
       "    </tr>\n",
       "    <tr>\n",
       "      <th>37</th>\n",
       "      <td>pop</td>\n",
       "      <td>160.23465</td>\n",
       "      <td>North America</td>\n",
       "    </tr>\n",
       "    <tr>\n",
       "      <th>38</th>\n",
       "      <td>pop</td>\n",
       "      <td>151.64036</td>\n",
       "      <td>North America</td>\n",
       "    </tr>\n",
       "    <tr>\n",
       "      <th>39</th>\n",
       "      <td>classical</td>\n",
       "      <td>87.22240</td>\n",
       "      <td>Europe</td>\n",
       "    </tr>\n",
       "    <tr>\n",
       "      <th>40</th>\n",
       "      <td>classical</td>\n",
       "      <td>84.37506</td>\n",
       "      <td>Europe</td>\n",
       "    </tr>\n",
       "    <tr>\n",
       "      <th>41</th>\n",
       "      <td>hip-hop</td>\n",
       "      <td>65.30567</td>\n",
       "      <td>Europe</td>\n",
       "    </tr>\n",
       "    <tr>\n",
       "      <th>42</th>\n",
       "      <td>hip-hop</td>\n",
       "      <td>65.07057</td>\n",
       "      <td>Europe</td>\n",
       "    </tr>\n",
       "    <tr>\n",
       "      <th>43</th>\n",
       "      <td>pop</td>\n",
       "      <td>64.67873</td>\n",
       "      <td>North America</td>\n",
       "    </tr>\n",
       "    <tr>\n",
       "      <th>44</th>\n",
       "      <td>hip-hop</td>\n",
       "      <td>57.20771</td>\n",
       "      <td>Europe</td>\n",
       "    </tr>\n",
       "    <tr>\n",
       "      <th>45</th>\n",
       "      <td>hip-hop</td>\n",
       "      <td>50.23302</td>\n",
       "      <td>Europe</td>\n",
       "    </tr>\n",
       "    <tr>\n",
       "      <th>46</th>\n",
       "      <td>hip-hop</td>\n",
       "      <td>37.61587</td>\n",
       "      <td>Europe</td>\n",
       "    </tr>\n",
       "    <tr>\n",
       "      <th>47</th>\n",
       "      <td>hip-hop</td>\n",
       "      <td>29.88363</td>\n",
       "      <td>Europe</td>\n",
       "    </tr>\n",
       "  </tbody>\n",
       "</table>\n",
       "</div>"
      ],
      "text/plain": [
       "        genre   duration      continent\n",
       "0   classical  723.85261  North America\n",
       "1   classical  660.03546  North America\n",
       "2   classical  620.77342  North America\n",
       "3   classical  546.01098  North America\n",
       "4   classical  522.99710  North America\n",
       "5   classical  453.90322         Europe\n",
       "6   classical  448.96608         Europe\n",
       "7   classical  373.47220  North America\n",
       "8     hip-hop  344.84200  North America\n",
       "9   classical  306.83383  North America\n",
       "10    hip-hop  305.50159  North America\n",
       "11    hip-hop  299.23220  North America\n",
       "12  classical  296.35873         Europe\n",
       "13        pop  286.90240         Europe\n",
       "14        pop  282.22649         Europe\n",
       "15    hip-hop  266.63138  North America\n",
       "16        pop  264.67220  North America\n",
       "17  classical  253.09995  North America\n",
       "18        pop  251.66322         Europe\n",
       "19    hip-hop  250.95791  North America\n",
       "20    hip-hop  249.96526         Europe\n",
       "21        pop  246.43873         Europe\n",
       "22    hip-hop  236.19873         Europe\n",
       "23        pop  235.96363         Europe\n",
       "24        pop  230.37342         Europe\n",
       "25    hip-hop  229.56363  North America\n",
       "26  classical  226.16771  North America\n",
       "27        pop  225.14893  North America\n",
       "28        pop  220.21179  North America\n",
       "29    hip-hop  217.93914  North America\n",
       "30    hip-hop  215.30077  North America\n",
       "31        pop  202.94485  North America\n",
       "32        pop  196.17914         Europe\n",
       "33        pop  191.84281         Europe\n",
       "34        pop  189.49179         Europe\n",
       "35  classical  184.26730         Europe\n",
       "36        pop  180.74077  North America\n",
       "37        pop  160.23465  North America\n",
       "38        pop  151.64036  North America\n",
       "39  classical   87.22240         Europe\n",
       "40  classical   84.37506         Europe\n",
       "41    hip-hop   65.30567         Europe\n",
       "42    hip-hop   65.07057         Europe\n",
       "43        pop   64.67873  North America\n",
       "44    hip-hop   57.20771         Europe\n",
       "45    hip-hop   50.23302         Europe\n",
       "46    hip-hop   37.61587         Europe\n",
       "47    hip-hop   29.88363         Europe"
      ]
     },
     "execution_count": 10,
     "metadata": {},
     "output_type": "execute_result"
    }
   ],
   "source": [
    "song_data = pd.DataFrame({'genre' : genre_data, 'duration' : duration_data, 'continent' : continent_data})\n",
    "song_data['duration'] = pd.to_numeric(song_data['duration'])\n",
    "song_data"
   ]
  },
  {
   "cell_type": "code",
   "execution_count": 11,
   "metadata": {},
   "outputs": [
    {
     "data": {
      "text/html": [
       "<div>\n",
       "<style scoped>\n",
       "    .dataframe tbody tr th:only-of-type {\n",
       "        vertical-align: middle;\n",
       "    }\n",
       "\n",
       "    .dataframe tbody tr th {\n",
       "        vertical-align: top;\n",
       "    }\n",
       "\n",
       "    .dataframe thead th {\n",
       "        text-align: right;\n",
       "    }\n",
       "</style>\n",
       "<table border=\"1\" class=\"dataframe\">\n",
       "  <thead>\n",
       "    <tr style=\"text-align: right;\">\n",
       "      <th></th>\n",
       "      <th>df</th>\n",
       "      <th>sum_sq</th>\n",
       "      <th>mean_sq</th>\n",
       "      <th>F</th>\n",
       "      <th>PR(&gt;F)</th>\n",
       "    </tr>\n",
       "  </thead>\n",
       "  <tbody>\n",
       "    <tr>\n",
       "      <th>genre</th>\n",
       "      <td>2.0</td>\n",
       "      <td>374225.492075</td>\n",
       "      <td>187112.746037</td>\n",
       "      <td>12.061023</td>\n",
       "      <td>0.000067</td>\n",
       "    </tr>\n",
       "    <tr>\n",
       "      <th>continent</th>\n",
       "      <td>1.0</td>\n",
       "      <td>124610.652957</td>\n",
       "      <td>124610.652957</td>\n",
       "      <td>8.032226</td>\n",
       "      <td>0.006913</td>\n",
       "    </tr>\n",
       "    <tr>\n",
       "      <th>Residual</th>\n",
       "      <td>44.0</td>\n",
       "      <td>682608.842344</td>\n",
       "      <td>15513.837326</td>\n",
       "      <td>NaN</td>\n",
       "      <td>NaN</td>\n",
       "    </tr>\n",
       "  </tbody>\n",
       "</table>\n",
       "</div>"
      ],
      "text/plain": [
       "             df         sum_sq        mean_sq          F    PR(>F)\n",
       "genre       2.0  374225.492075  187112.746037  12.061023  0.000067\n",
       "continent   1.0  124610.652957  124610.652957   8.032226  0.006913\n",
       "Residual   44.0  682608.842344   15513.837326        NaN       NaN"
      ]
     },
     "execution_count": 11,
     "metadata": {},
     "output_type": "execute_result"
    }
   ],
   "source": [
    "fit = ols('duration ~ genre + continent', data=song_data).fit() \n",
    "anova.anova_lm(fit)"
   ]
  },
  {
   "cell_type": "code",
   "execution_count": 15,
   "metadata": {},
   "outputs": [
    {
     "data": {
      "text/html": [
       "<div>\n",
       "<style scoped>\n",
       "    .dataframe tbody tr th:only-of-type {\n",
       "        vertical-align: middle;\n",
       "    }\n",
       "\n",
       "    .dataframe tbody tr th {\n",
       "        vertical-align: top;\n",
       "    }\n",
       "\n",
       "    .dataframe thead th {\n",
       "        text-align: right;\n",
       "    }\n",
       "</style>\n",
       "<table border=\"1\" class=\"dataframe\">\n",
       "  <thead>\n",
       "    <tr style=\"text-align: right;\">\n",
       "      <th></th>\n",
       "      <th>df</th>\n",
       "      <th>sum_sq</th>\n",
       "      <th>mean_sq</th>\n",
       "      <th>F</th>\n",
       "      <th>PR(&gt;F)</th>\n",
       "    </tr>\n",
       "  </thead>\n",
       "  <tbody>\n",
       "    <tr>\n",
       "      <th>genre</th>\n",
       "      <td>2.0</td>\n",
       "      <td>374225.492075</td>\n",
       "      <td>187112.746037</td>\n",
       "      <td>12.061023</td>\n",
       "      <td>0.000067</td>\n",
       "    </tr>\n",
       "    <tr>\n",
       "      <th>continent</th>\n",
       "      <td>1.0</td>\n",
       "      <td>124610.652957</td>\n",
       "      <td>124610.652957</td>\n",
       "      <td>8.032226</td>\n",
       "      <td>0.006913</td>\n",
       "    </tr>\n",
       "    <tr>\n",
       "      <th>Residual</th>\n",
       "      <td>44.0</td>\n",
       "      <td>682608.842344</td>\n",
       "      <td>15513.837326</td>\n",
       "      <td>NaN</td>\n",
       "      <td>NaN</td>\n",
       "    </tr>\n",
       "  </tbody>\n",
       "</table>\n",
       "</div>"
      ],
      "text/plain": [
       "             df         sum_sq        mean_sq          F    PR(>F)\n",
       "genre       2.0  374225.492075  187112.746037  12.061023  0.000067\n",
       "continent   1.0  124610.652957  124610.652957   8.032226  0.006913\n",
       "Residual   44.0  682608.842344   15513.837326        NaN       NaN"
      ]
     },
     "execution_count": 15,
     "metadata": {},
     "output_type": "execute_result"
    }
   ],
   "source": [
    "fit = ols('duration ~ genre + continent', data=song_data).fit() \n",
    "anova.anova_lm(fit)"
   ]
  },
  {
   "cell_type": "code",
   "execution_count": 17,
   "metadata": {},
   "outputs": [
    {
     "data": {
      "text/html": [
       "<div>\n",
       "<style scoped>\n",
       "    .dataframe tbody tr th:only-of-type {\n",
       "        vertical-align: middle;\n",
       "    }\n",
       "\n",
       "    .dataframe tbody tr th {\n",
       "        vertical-align: top;\n",
       "    }\n",
       "\n",
       "    .dataframe thead th {\n",
       "        text-align: right;\n",
       "    }\n",
       "</style>\n",
       "<table border=\"1\" class=\"dataframe\">\n",
       "  <thead>\n",
       "    <tr style=\"text-align: right;\">\n",
       "      <th></th>\n",
       "      <th>df</th>\n",
       "      <th>sum_sq</th>\n",
       "      <th>mean_sq</th>\n",
       "      <th>F</th>\n",
       "      <th>PR(&gt;F)</th>\n",
       "    </tr>\n",
       "  </thead>\n",
       "  <tbody>\n",
       "    <tr>\n",
       "      <th>genre</th>\n",
       "      <td>2.0</td>\n",
       "      <td>374225.492075</td>\n",
       "      <td>187112.746037</td>\n",
       "      <td>15.003895</td>\n",
       "      <td>0.000012</td>\n",
       "    </tr>\n",
       "    <tr>\n",
       "      <th>continent</th>\n",
       "      <td>1.0</td>\n",
       "      <td>124610.652957</td>\n",
       "      <td>124610.652957</td>\n",
       "      <td>9.992078</td>\n",
       "      <td>0.002916</td>\n",
       "    </tr>\n",
       "    <tr>\n",
       "      <th>genre:continent</th>\n",
       "      <td>2.0</td>\n",
       "      <td>158829.157925</td>\n",
       "      <td>79414.578962</td>\n",
       "      <td>6.367968</td>\n",
       "      <td>0.003842</td>\n",
       "    </tr>\n",
       "    <tr>\n",
       "      <th>Residual</th>\n",
       "      <td>42.0</td>\n",
       "      <td>523779.684419</td>\n",
       "      <td>12470.944867</td>\n",
       "      <td>NaN</td>\n",
       "      <td>NaN</td>\n",
       "    </tr>\n",
       "  </tbody>\n",
       "</table>\n",
       "</div>"
      ],
      "text/plain": [
       "                   df         sum_sq        mean_sq          F    PR(>F)\n",
       "genre             2.0  374225.492075  187112.746037  15.003895  0.000012\n",
       "continent         1.0  124610.652957  124610.652957   9.992078  0.002916\n",
       "genre:continent   2.0  158829.157925   79414.578962   6.367968  0.003842\n",
       "Residual         42.0  523779.684419   12470.944867        NaN       NaN"
      ]
     },
     "execution_count": 17,
     "metadata": {},
     "output_type": "execute_result"
    }
   ],
   "source": [
    "fit = ols('duration ~ genre + continent + genre*continent', data=song_data).fit() \n",
    "anova.anova_lm(fit)"
   ]
  },
  {
   "cell_type": "code",
   "execution_count": 19,
   "metadata": {},
   "outputs": [
    {
     "data": {
      "text/plain": [
       "0.0012729800620265852"
      ]
     },
     "execution_count": 19,
     "metadata": {},
     "output_type": "execute_result"
    }
   ],
   "source": [
    "2 * (1 -sp.stats.binom.cdf(210, 360, 0.5))"
   ]
  },
  {
   "cell_type": "code",
   "execution_count": 20,
   "metadata": {},
   "outputs": [
    {
     "data": {
      "text/plain": [
       "0.0018340074170964363"
      ]
     },
     "execution_count": 20,
     "metadata": {},
     "output_type": "execute_result"
    }
   ],
   "source": [
    "sp.stats.binom_test(210, 360, 0.5)"
   ]
  },
  {
   "cell_type": "code",
   "execution_count": 58,
   "metadata": {},
   "outputs": [],
   "source": [
    "wheat_string = '2 3 2 3 4 4 5 3 2 1'\n",
    "wheat_data = wheat_string.split()\n",
    "ipa_string = '4 4 3 4 5 5 4 4 3 2'\n",
    "ipa_data = ipa_string.split()"
   ]
  },
  {
   "cell_type": "code",
   "execution_count": 59,
   "metadata": {},
   "outputs": [
    {
     "data": {
      "text/html": [
       "<div>\n",
       "<style scoped>\n",
       "    .dataframe tbody tr th:only-of-type {\n",
       "        vertical-align: middle;\n",
       "    }\n",
       "\n",
       "    .dataframe tbody tr th {\n",
       "        vertical-align: top;\n",
       "    }\n",
       "\n",
       "    .dataframe thead th {\n",
       "        text-align: right;\n",
       "    }\n",
       "</style>\n",
       "<table border=\"1\" class=\"dataframe\">\n",
       "  <thead>\n",
       "    <tr style=\"text-align: right;\">\n",
       "      <th></th>\n",
       "      <th>ipa</th>\n",
       "      <th>wheat</th>\n",
       "    </tr>\n",
       "  </thead>\n",
       "  <tbody>\n",
       "    <tr>\n",
       "      <th>0</th>\n",
       "      <td>4</td>\n",
       "      <td>2</td>\n",
       "    </tr>\n",
       "    <tr>\n",
       "      <th>1</th>\n",
       "      <td>4</td>\n",
       "      <td>3</td>\n",
       "    </tr>\n",
       "    <tr>\n",
       "      <th>2</th>\n",
       "      <td>3</td>\n",
       "      <td>2</td>\n",
       "    </tr>\n",
       "    <tr>\n",
       "      <th>3</th>\n",
       "      <td>4</td>\n",
       "      <td>3</td>\n",
       "    </tr>\n",
       "    <tr>\n",
       "      <th>4</th>\n",
       "      <td>5</td>\n",
       "      <td>4</td>\n",
       "    </tr>\n",
       "    <tr>\n",
       "      <th>5</th>\n",
       "      <td>5</td>\n",
       "      <td>4</td>\n",
       "    </tr>\n",
       "    <tr>\n",
       "      <th>6</th>\n",
       "      <td>4</td>\n",
       "      <td>5</td>\n",
       "    </tr>\n",
       "    <tr>\n",
       "      <th>7</th>\n",
       "      <td>4</td>\n",
       "      <td>3</td>\n",
       "    </tr>\n",
       "    <tr>\n",
       "      <th>8</th>\n",
       "      <td>3</td>\n",
       "      <td>2</td>\n",
       "    </tr>\n",
       "    <tr>\n",
       "      <th>9</th>\n",
       "      <td>2</td>\n",
       "      <td>1</td>\n",
       "    </tr>\n",
       "  </tbody>\n",
       "</table>\n",
       "</div>"
      ],
      "text/plain": [
       "   ipa  wheat\n",
       "0    4      2\n",
       "1    4      3\n",
       "2    3      2\n",
       "3    4      3\n",
       "4    5      4\n",
       "5    5      4\n",
       "6    4      5\n",
       "7    4      3\n",
       "8    3      2\n",
       "9    2      1"
      ]
     },
     "execution_count": 59,
     "metadata": {},
     "output_type": "execute_result"
    }
   ],
   "source": [
    "beer_data = pd.DataFrame({'ipa' : ipa_data, 'wheat' : wheat_data})\n",
    "beer_data['wheat'] = pd.to_numeric(beer_data['wheat'])\n",
    "beer_data['ipa'] = pd.to_numeric(beer_data['ipa'])\n",
    "beer_data"
   ]
  },
  {
   "cell_type": "code",
   "execution_count": 61,
   "metadata": {},
   "outputs": [],
   "source": [
    "album_rating = np.array([3.5, 4.2, 2.3, 3.0, 1.0])"
   ]
  },
  {
   "cell_type": "code",
   "execution_count": 62,
   "metadata": {},
   "outputs": [
    {
     "name": "stderr",
     "output_type": "stream",
     "text": [
      "C:\\Users\\Bakhtiyar\\Anaconda3\\lib\\site-packages\\scipy\\stats\\morestats.py:2388: UserWarning: Warning: sample size too small for normal approximation.\n",
      "  warnings.warn(\"Warning: sample size too small for normal approximation.\")\n"
     ]
    },
    {
     "data": {
      "text/plain": [
       "WilcoxonResult(statistic=2.5, pvalue=0.2228009911811345)"
      ]
     },
     "execution_count": 62,
     "metadata": {},
     "output_type": "execute_result"
    }
   ],
   "source": [
    "sp.stats.wilcoxon((album_rating-2), correction = True)"
   ]
  },
  {
   "cell_type": "code",
   "execution_count": 35,
   "metadata": {},
   "outputs": [
    {
     "data": {
      "text/html": [
       "<div>\n",
       "<style scoped>\n",
       "    .dataframe tbody tr th:only-of-type {\n",
       "        vertical-align: middle;\n",
       "    }\n",
       "\n",
       "    .dataframe tbody tr th {\n",
       "        vertical-align: top;\n",
       "    }\n",
       "\n",
       "    .dataframe thead th {\n",
       "        text-align: right;\n",
       "    }\n",
       "</style>\n",
       "<table border=\"1\" class=\"dataframe\">\n",
       "  <thead>\n",
       "    <tr style=\"text-align: right;\">\n",
       "      <th></th>\n",
       "      <th>group</th>\n",
       "      <th>rating</th>\n",
       "    </tr>\n",
       "  </thead>\n",
       "  <tbody>\n",
       "    <tr>\n",
       "      <th>0</th>\n",
       "      <td>wheat_beer</td>\n",
       "      <td>2</td>\n",
       "    </tr>\n",
       "    <tr>\n",
       "      <th>1</th>\n",
       "      <td>wheat_beer</td>\n",
       "      <td>3</td>\n",
       "    </tr>\n",
       "    <tr>\n",
       "      <th>2</th>\n",
       "      <td>wheat_beer</td>\n",
       "      <td>2</td>\n",
       "    </tr>\n",
       "    <tr>\n",
       "      <th>3</th>\n",
       "      <td>wheat_beer</td>\n",
       "      <td>3</td>\n",
       "    </tr>\n",
       "    <tr>\n",
       "      <th>4</th>\n",
       "      <td>wheat_beer</td>\n",
       "      <td>4</td>\n",
       "    </tr>\n",
       "    <tr>\n",
       "      <th>5</th>\n",
       "      <td>wheat_beer</td>\n",
       "      <td>4</td>\n",
       "    </tr>\n",
       "    <tr>\n",
       "      <th>6</th>\n",
       "      <td>wheat_beer</td>\n",
       "      <td>5</td>\n",
       "    </tr>\n",
       "    <tr>\n",
       "      <th>7</th>\n",
       "      <td>wheat_beer</td>\n",
       "      <td>3</td>\n",
       "    </tr>\n",
       "    <tr>\n",
       "      <th>8</th>\n",
       "      <td>wheat_beer</td>\n",
       "      <td>2</td>\n",
       "    </tr>\n",
       "    <tr>\n",
       "      <th>9</th>\n",
       "      <td>wheat_beer</td>\n",
       "      <td>1</td>\n",
       "    </tr>\n",
       "  </tbody>\n",
       "</table>\n",
       "</div>"
      ],
      "text/plain": [
       "        group rating\n",
       "0  wheat_beer      2\n",
       "1  wheat_beer      3\n",
       "2  wheat_beer      2\n",
       "3  wheat_beer      3\n",
       "4  wheat_beer      4\n",
       "5  wheat_beer      4\n",
       "6  wheat_beer      5\n",
       "7  wheat_beer      3\n",
       "8  wheat_beer      2\n",
       "9  wheat_beer      1"
      ]
     },
     "execution_count": 35,
     "metadata": {},
     "output_type": "execute_result"
    }
   ],
   "source": [
    "ipa_df = pd.DataFrame({'group' : 'IPA_beer', 'rating' : ipa_data})\n",
    "wheat_df = pd.DataFrame({'group' : 'wheat_beer', 'rating' : wheat_data})\n",
    "#wheat_df"
   ]
  },
  {
   "cell_type": "code",
   "execution_count": 36,
   "metadata": {},
   "outputs": [
    {
     "data": {
      "text/html": [
       "<div>\n",
       "<style scoped>\n",
       "    .dataframe tbody tr th:only-of-type {\n",
       "        vertical-align: middle;\n",
       "    }\n",
       "\n",
       "    .dataframe tbody tr th {\n",
       "        vertical-align: top;\n",
       "    }\n",
       "\n",
       "    .dataframe thead th {\n",
       "        text-align: right;\n",
       "    }\n",
       "</style>\n",
       "<table border=\"1\" class=\"dataframe\">\n",
       "  <thead>\n",
       "    <tr style=\"text-align: right;\">\n",
       "      <th></th>\n",
       "      <th>group</th>\n",
       "      <th>rating</th>\n",
       "    </tr>\n",
       "  </thead>\n",
       "  <tbody>\n",
       "    <tr>\n",
       "      <th>0</th>\n",
       "      <td>IPA_beer</td>\n",
       "      <td>4</td>\n",
       "    </tr>\n",
       "    <tr>\n",
       "      <th>1</th>\n",
       "      <td>IPA_beer</td>\n",
       "      <td>4</td>\n",
       "    </tr>\n",
       "    <tr>\n",
       "      <th>2</th>\n",
       "      <td>IPA_beer</td>\n",
       "      <td>3</td>\n",
       "    </tr>\n",
       "    <tr>\n",
       "      <th>3</th>\n",
       "      <td>IPA_beer</td>\n",
       "      <td>4</td>\n",
       "    </tr>\n",
       "    <tr>\n",
       "      <th>4</th>\n",
       "      <td>IPA_beer</td>\n",
       "      <td>5</td>\n",
       "    </tr>\n",
       "    <tr>\n",
       "      <th>5</th>\n",
       "      <td>IPA_beer</td>\n",
       "      <td>5</td>\n",
       "    </tr>\n",
       "    <tr>\n",
       "      <th>6</th>\n",
       "      <td>IPA_beer</td>\n",
       "      <td>4</td>\n",
       "    </tr>\n",
       "    <tr>\n",
       "      <th>7</th>\n",
       "      <td>IPA_beer</td>\n",
       "      <td>4</td>\n",
       "    </tr>\n",
       "    <tr>\n",
       "      <th>8</th>\n",
       "      <td>IPA_beer</td>\n",
       "      <td>3</td>\n",
       "    </tr>\n",
       "    <tr>\n",
       "      <th>9</th>\n",
       "      <td>IPA_beer</td>\n",
       "      <td>2</td>\n",
       "    </tr>\n",
       "    <tr>\n",
       "      <th>10</th>\n",
       "      <td>wheat_beer</td>\n",
       "      <td>2</td>\n",
       "    </tr>\n",
       "    <tr>\n",
       "      <th>11</th>\n",
       "      <td>wheat_beer</td>\n",
       "      <td>3</td>\n",
       "    </tr>\n",
       "    <tr>\n",
       "      <th>12</th>\n",
       "      <td>wheat_beer</td>\n",
       "      <td>2</td>\n",
       "    </tr>\n",
       "    <tr>\n",
       "      <th>13</th>\n",
       "      <td>wheat_beer</td>\n",
       "      <td>3</td>\n",
       "    </tr>\n",
       "    <tr>\n",
       "      <th>14</th>\n",
       "      <td>wheat_beer</td>\n",
       "      <td>4</td>\n",
       "    </tr>\n",
       "    <tr>\n",
       "      <th>15</th>\n",
       "      <td>wheat_beer</td>\n",
       "      <td>4</td>\n",
       "    </tr>\n",
       "    <tr>\n",
       "      <th>16</th>\n",
       "      <td>wheat_beer</td>\n",
       "      <td>5</td>\n",
       "    </tr>\n",
       "    <tr>\n",
       "      <th>17</th>\n",
       "      <td>wheat_beer</td>\n",
       "      <td>3</td>\n",
       "    </tr>\n",
       "    <tr>\n",
       "      <th>18</th>\n",
       "      <td>wheat_beer</td>\n",
       "      <td>2</td>\n",
       "    </tr>\n",
       "    <tr>\n",
       "      <th>19</th>\n",
       "      <td>wheat_beer</td>\n",
       "      <td>1</td>\n",
       "    </tr>\n",
       "  </tbody>\n",
       "</table>\n",
       "</div>"
      ],
      "text/plain": [
       "         group rating\n",
       "0     IPA_beer      4\n",
       "1     IPA_beer      4\n",
       "2     IPA_beer      3\n",
       "3     IPA_beer      4\n",
       "4     IPA_beer      5\n",
       "5     IPA_beer      5\n",
       "6     IPA_beer      4\n",
       "7     IPA_beer      4\n",
       "8     IPA_beer      3\n",
       "9     IPA_beer      2\n",
       "10  wheat_beer      2\n",
       "11  wheat_beer      3\n",
       "12  wheat_beer      2\n",
       "13  wheat_beer      3\n",
       "14  wheat_beer      4\n",
       "15  wheat_beer      4\n",
       "16  wheat_beer      5\n",
       "17  wheat_beer      3\n",
       "18  wheat_beer      2\n",
       "19  wheat_beer      1"
      ]
     },
     "execution_count": 36,
     "metadata": {},
     "output_type": "execute_result"
    }
   ],
   "source": [
    "beer_df = ipa_df.append(wheat_df, ignore_index = True)\n",
    "beer_df"
   ]
  },
  {
   "cell_type": "code",
   "execution_count": 37,
   "metadata": {},
   "outputs": [
    {
     "data": {
      "text/plain": [
       "RanksumsResult(statistic=1.7008401285415227, pvalue=0.08897301170181328)"
      ]
     },
     "execution_count": 37,
     "metadata": {},
     "output_type": "execute_result"
    }
   ],
   "source": [
    "sp.stats.ranksums(beer_data['ipa'], beer_data['wheat'])"
   ]
  },
  {
   "cell_type": "code",
   "execution_count": 38,
   "metadata": {},
   "outputs": [],
   "source": [
    "amber_string = '2 2 2 3 4 5 3 3 2 2'\n",
    "amber_data = wheat_string.split()"
   ]
  },
  {
   "cell_type": "code",
   "execution_count": 42,
   "metadata": {},
   "outputs": [
    {
     "name": "stderr",
     "output_type": "stream",
     "text": [
      "C:\\Users\\Bakhtiyar\\Anaconda3\\lib\\site-packages\\scipy\\stats\\stats.py:245: RuntimeWarning: The input array could not be properly checked for nan values. nan values will be ignored.\n",
      "  \"values. nan values will be ignored.\", RuntimeWarning)\n"
     ]
    },
    {
     "data": {
      "text/plain": [
       "KruskalResult(statistic=4.170809659090912, pvalue=0.12425680715560938)"
      ]
     },
     "execution_count": 42,
     "metadata": {},
     "output_type": "execute_result"
    }
   ],
   "source": [
    "sp.stats.kruskal(ipa_data, wheat_data, amber_data)"
   ]
  },
  {
   "cell_type": "code",
   "execution_count": 48,
   "metadata": {},
   "outputs": [],
   "source": [
    "from statsmodels.stats.multicomp import MultiComparison"
   ]
  },
  {
   "cell_type": "code",
   "execution_count": 50,
   "metadata": {},
   "outputs": [
    {
     "data": {
      "text/html": [
       "<div>\n",
       "<style scoped>\n",
       "    .dataframe tbody tr th:only-of-type {\n",
       "        vertical-align: middle;\n",
       "    }\n",
       "\n",
       "    .dataframe tbody tr th {\n",
       "        vertical-align: top;\n",
       "    }\n",
       "\n",
       "    .dataframe thead th {\n",
       "        text-align: right;\n",
       "    }\n",
       "</style>\n",
       "<table border=\"1\" class=\"dataframe\">\n",
       "  <thead>\n",
       "    <tr style=\"text-align: right;\">\n",
       "      <th></th>\n",
       "      <th>ipa</th>\n",
       "      <th>wheat</th>\n",
       "      <th>amber</th>\n",
       "    </tr>\n",
       "  </thead>\n",
       "  <tbody>\n",
       "    <tr>\n",
       "      <th>0</th>\n",
       "      <td>4</td>\n",
       "      <td>2</td>\n",
       "      <td>2</td>\n",
       "    </tr>\n",
       "    <tr>\n",
       "      <th>1</th>\n",
       "      <td>4</td>\n",
       "      <td>3</td>\n",
       "      <td>3</td>\n",
       "    </tr>\n",
       "    <tr>\n",
       "      <th>2</th>\n",
       "      <td>3</td>\n",
       "      <td>2</td>\n",
       "      <td>2</td>\n",
       "    </tr>\n",
       "    <tr>\n",
       "      <th>3</th>\n",
       "      <td>4</td>\n",
       "      <td>3</td>\n",
       "      <td>3</td>\n",
       "    </tr>\n",
       "    <tr>\n",
       "      <th>4</th>\n",
       "      <td>5</td>\n",
       "      <td>4</td>\n",
       "      <td>4</td>\n",
       "    </tr>\n",
       "    <tr>\n",
       "      <th>5</th>\n",
       "      <td>5</td>\n",
       "      <td>4</td>\n",
       "      <td>4</td>\n",
       "    </tr>\n",
       "    <tr>\n",
       "      <th>6</th>\n",
       "      <td>4</td>\n",
       "      <td>5</td>\n",
       "      <td>5</td>\n",
       "    </tr>\n",
       "    <tr>\n",
       "      <th>7</th>\n",
       "      <td>4</td>\n",
       "      <td>3</td>\n",
       "      <td>3</td>\n",
       "    </tr>\n",
       "    <tr>\n",
       "      <th>8</th>\n",
       "      <td>3</td>\n",
       "      <td>2</td>\n",
       "      <td>2</td>\n",
       "    </tr>\n",
       "    <tr>\n",
       "      <th>9</th>\n",
       "      <td>2</td>\n",
       "      <td>1</td>\n",
       "      <td>1</td>\n",
       "    </tr>\n",
       "  </tbody>\n",
       "</table>\n",
       "</div>"
      ],
      "text/plain": [
       "   ipa  wheat amber\n",
       "0    4      2     2\n",
       "1    4      3     3\n",
       "2    3      2     2\n",
       "3    4      3     3\n",
       "4    5      4     4\n",
       "5    5      4     4\n",
       "6    4      5     5\n",
       "7    4      3     3\n",
       "8    3      2     2\n",
       "9    2      1     1"
      ]
     },
     "execution_count": 50,
     "metadata": {},
     "output_type": "execute_result"
    }
   ],
   "source": [
    "beer_data['amber'] = amber_data\n",
    "beer_data"
   ]
  },
  {
   "cell_type": "code",
   "execution_count": 52,
   "metadata": {},
   "outputs": [],
   "source": [
    "education_level_string = '1 2 2 2 3 3 4 5 4 4 3 3 3 2 2 2 3 4 3 2'\n",
    "education_level_data = education_level_string.split()\n",
    "consumption_string = '2 2 2 3 4 4 5 4 4 3 2 1 3 4 3 2 4 5 3 1'\n",
    "consumption_data = consumption_string.split()"
   ]
  },
  {
   "cell_type": "code",
   "execution_count": 53,
   "metadata": {},
   "outputs": [
    {
     "data": {
      "text/html": [
       "<div>\n",
       "<style scoped>\n",
       "    .dataframe tbody tr th:only-of-type {\n",
       "        vertical-align: middle;\n",
       "    }\n",
       "\n",
       "    .dataframe tbody tr th {\n",
       "        vertical-align: top;\n",
       "    }\n",
       "\n",
       "    .dataframe thead th {\n",
       "        text-align: right;\n",
       "    }\n",
       "</style>\n",
       "<table border=\"1\" class=\"dataframe\">\n",
       "  <thead>\n",
       "    <tr style=\"text-align: right;\">\n",
       "      <th></th>\n",
       "      <th>education_level</th>\n",
       "      <th>consumption</th>\n",
       "    </tr>\n",
       "  </thead>\n",
       "  <tbody>\n",
       "    <tr>\n",
       "      <th>0</th>\n",
       "      <td>1</td>\n",
       "      <td>2</td>\n",
       "    </tr>\n",
       "    <tr>\n",
       "      <th>1</th>\n",
       "      <td>2</td>\n",
       "      <td>2</td>\n",
       "    </tr>\n",
       "    <tr>\n",
       "      <th>2</th>\n",
       "      <td>2</td>\n",
       "      <td>2</td>\n",
       "    </tr>\n",
       "    <tr>\n",
       "      <th>3</th>\n",
       "      <td>2</td>\n",
       "      <td>3</td>\n",
       "    </tr>\n",
       "    <tr>\n",
       "      <th>4</th>\n",
       "      <td>3</td>\n",
       "      <td>4</td>\n",
       "    </tr>\n",
       "    <tr>\n",
       "      <th>5</th>\n",
       "      <td>3</td>\n",
       "      <td>4</td>\n",
       "    </tr>\n",
       "    <tr>\n",
       "      <th>6</th>\n",
       "      <td>4</td>\n",
       "      <td>5</td>\n",
       "    </tr>\n",
       "    <tr>\n",
       "      <th>7</th>\n",
       "      <td>5</td>\n",
       "      <td>4</td>\n",
       "    </tr>\n",
       "    <tr>\n",
       "      <th>8</th>\n",
       "      <td>4</td>\n",
       "      <td>4</td>\n",
       "    </tr>\n",
       "    <tr>\n",
       "      <th>9</th>\n",
       "      <td>4</td>\n",
       "      <td>3</td>\n",
       "    </tr>\n",
       "    <tr>\n",
       "      <th>10</th>\n",
       "      <td>3</td>\n",
       "      <td>2</td>\n",
       "    </tr>\n",
       "    <tr>\n",
       "      <th>11</th>\n",
       "      <td>3</td>\n",
       "      <td>1</td>\n",
       "    </tr>\n",
       "    <tr>\n",
       "      <th>12</th>\n",
       "      <td>3</td>\n",
       "      <td>3</td>\n",
       "    </tr>\n",
       "    <tr>\n",
       "      <th>13</th>\n",
       "      <td>2</td>\n",
       "      <td>4</td>\n",
       "    </tr>\n",
       "    <tr>\n",
       "      <th>14</th>\n",
       "      <td>2</td>\n",
       "      <td>3</td>\n",
       "    </tr>\n",
       "    <tr>\n",
       "      <th>15</th>\n",
       "      <td>2</td>\n",
       "      <td>2</td>\n",
       "    </tr>\n",
       "    <tr>\n",
       "      <th>16</th>\n",
       "      <td>3</td>\n",
       "      <td>4</td>\n",
       "    </tr>\n",
       "    <tr>\n",
       "      <th>17</th>\n",
       "      <td>4</td>\n",
       "      <td>5</td>\n",
       "    </tr>\n",
       "    <tr>\n",
       "      <th>18</th>\n",
       "      <td>3</td>\n",
       "      <td>3</td>\n",
       "    </tr>\n",
       "    <tr>\n",
       "      <th>19</th>\n",
       "      <td>2</td>\n",
       "      <td>1</td>\n",
       "    </tr>\n",
       "  </tbody>\n",
       "</table>\n",
       "</div>"
      ],
      "text/plain": [
       "    education_level  consumption\n",
       "0                 1            2\n",
       "1                 2            2\n",
       "2                 2            2\n",
       "3                 2            3\n",
       "4                 3            4\n",
       "5                 3            4\n",
       "6                 4            5\n",
       "7                 5            4\n",
       "8                 4            4\n",
       "9                 4            3\n",
       "10                3            2\n",
       "11                3            1\n",
       "12                3            3\n",
       "13                2            4\n",
       "14                2            3\n",
       "15                2            2\n",
       "16                3            4\n",
       "17                4            5\n",
       "18                3            3\n",
       "19                2            1"
      ]
     },
     "execution_count": 53,
     "metadata": {},
     "output_type": "execute_result"
    }
   ],
   "source": [
    "beer_data = pd.DataFrame({'education_level' : education_level_data, 'consumption' : consumption_data})\n",
    "beer_data['education_level'] = pd.to_numeric(beer_data['education_level'])\n",
    "beer_data['consumption'] = pd.to_numeric(beer_data['consumption'])\n",
    "beer_data"
   ]
  },
  {
   "cell_type": "code",
   "execution_count": 56,
   "metadata": {},
   "outputs": [
    {
     "data": {
      "text/plain": [
       "SpearmanrResult(correlation=0.6092038433381816, pvalue=0.004355681860668939)"
      ]
     },
     "execution_count": 56,
     "metadata": {},
     "output_type": "execute_result"
    }
   ],
   "source": [
    "sp.stats.spearmanr(beer_data['consumption'], beer_data['education_level'])"
   ]
  }
 ],
 "metadata": {
  "kernelspec": {
   "display_name": "Python 3",
   "language": "python",
   "name": "python3"
  },
  "language_info": {
   "codemirror_mode": {
    "name": "ipython",
    "version": 3
   },
   "file_extension": ".py",
   "mimetype": "text/x-python",
   "name": "python",
   "nbconvert_exporter": "python",
   "pygments_lexer": "ipython3",
   "version": "3.6.5"
  }
 },
 "nbformat": 4,
 "nbformat_minor": 2
}
